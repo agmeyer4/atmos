{
 "cells": [
  {
   "cell_type": "markdown",
   "id": "1aeef839",
   "metadata": {},
   "source": [
    "GRA2PES Demo\n",
    "================\n",
    "\n",
    "This notebook demonstrates multiple components of the GRA2PES framework, including:\n",
    "- **Base data loading**: Loading the base data given the GRA2PES configuration.\n",
    "- **Regridding**: Regridding the base LCC data to the target Lat/Lon grid. \n",
    "- **Regridded data loading**: Loading the regridded data given the GRA2PES configuration.\n",
    "- **Basic processing**: Applying things like unit conversion etc. to the regridded data.\n",
    "- **Emissions visualization**: Visualizing the regridded data using matplotlib.\n",
    "- **Ratio visualization**: Visualizing the ratio of two regridded datasets.\n",
    "\n",
    "To be able to run this notebook, you will have to have downloaded the GRA2PES base data using the gra2pes_base_creator.py script, as well as have a regridded dataset using the gra2pes_regrid.py script. \n",
    "\n",
    "**NOTE**: These datasets are quite large and require a lot of RAM to load in memory. I have only run this notebook on a CHPC cluster with lots of memory (>100GB). Be aware that running this notebook in other instances may result in memory errors.\n"
   ]
  },
  {
   "cell_type": "markdown",
   "id": "302272ec",
   "metadata": {},
   "source": [
    "### Setup\n",
    "Ensure that the parameters in inventories/gra2pes/gra2pes_config.py are set correctly for your use case."
   ]
  },
  {
   "cell_type": "code",
   "execution_count": null,
   "id": "a9a03ead",
   "metadata": {},
   "outputs": [],
   "source": [
    "#Import necessary libraries\n",
    "import os\n",
    "import xarray as xr\n",
    "import numpy as np\n",
    "import pandas as pd\n",
    "import xesmf as xe\n",
    "import sys \n",
    "import matplotlib\n",
    "import matplotlib.pyplot as plt\n",
    "import pyproj\n",
    "import datetime\n",
    "import cartopy.crs as ccrs\n",
    "import cartopy.feature as cfeature\n",
    "import cartopy.io.img_tiles as cimgt\n",
    "sys.path.append('..')\n",
    "from inventories.gra2pes import gra2pes_utils , gra2pes_config, gra2pes_regrid\n",
    "from utils import gen_utils, datetime_utils, xr_utils, plot_utils, df_utils"
   ]
  },
  {
   "cell_type": "markdown",
   "id": "0be4f6d0",
   "metadata": {},
   "source": [
    "# Base Data Loading/Examining\n",
    "\"Base\" data referes to the data that is loaded from the dataset downloaded and organized by inventories/gra2pes/gra2pes_base_creator.py. These are the extracted tar.gz files from either the NOAA FTP or HTTPS servers. "
   ]
  },
  {
   "cell_type": "code",
   "execution_count": null,
   "id": "9fff88d8",
   "metadata": {},
   "outputs": [],
   "source": [
    "config = gra2pes_config.Gra2pesConfig() # Load the configuration \n",
    "extra_ids = 'methane' #define any \"extra\" ids that are not included in the default set of species\n",
    "specs = ['CO2','CO','HC01']#,'HC02','HC14','NH3','NOX','SO2']\n",
    "\n",
    "BGH = gra2pes_utils.BaseGra2pesHandler(config,specs = specs, extra_ids = extra_ids) #create the handler object\n",
    "\n",
    "sector = 'AG' # Define the sector of interest\n",
    "year = 2021 # Define the year of interest\n",
    "month = 1 # Define the month of interest\n",
    "day_type = 'weekdy' # Define the type of day (e.g., 'weekdy' for weekdays, 'satdy' for Saturdays, 'sundy' for Sundays)\n",
    "base_ds = BGH.load_fmt_fullday(sector, year, month, day_type, check_extra=False) # Load the full day dataset for the specified sector, year, month, and day type\n",
    "base_ds # Display the dataset"
   ]
  },
  {
   "cell_type": "markdown",
   "id": "1133a66c",
   "metadata": {},
   "source": [
    "# Regridding\n",
    "This is an example of what happens in the gra2pes_regrid.py script to transform the base data from the LCC grid to the target Lat/Lon grid. Configuration for the regridding is set in inventories/gra2pes/gra2pes_config.py in the Gra2pesRegridConfig class. \n",
    "\n",
    "**NOTE**: This will take a bit of time to run -- for the example data loaded in the cell above, it takes about 3 minutes. "
   ]
  },
  {
   "cell_type": "code",
   "execution_count": null,
   "id": "d73116f7",
   "metadata": {},
   "outputs": [],
   "source": [
    "regrid_config = gra2pes_config.Gra2pesRegridConfig(config) # Load the regrid configuration\n",
    "gra2pes_regridder = gra2pes_utils.Gra2pesRegridder(regrid_config) # Create the regridder object\n",
    "base_ds = gra2pes_regrid.sum_on_dim(base_ds, dim ='zlevel') #Sum over the vertical levels to get a 2D dataset for much faster regridding\n",
    "regridded_ds = gra2pes_regridder.regrid(base_ds) # Regrid the dataset to the desired grid\n",
    "regridded_ds = gra2pes_regrid.slice_extent(regridded_ds,extent={'lon_min': -113, 'lon_max': -111, 'lat_min': 40, 'lat_max': 42}) # Slice the dataset to a specific extent\n",
    "regridded_ds # Show the regridded dataset"
   ]
  },
  {
   "cell_type": "markdown",
   "id": "75f053d2",
   "metadata": {},
   "source": [
    "# Working with Regridded Data\n",
    "This section demonstrates how to load the data that was regridded and saved using the gra2pes_regrid.py script. This allows the user to load the necessary data for further processing, visualization, or analysis."
   ]
  },
  {
   "cell_type": "code",
   "execution_count": null,
   "id": "4b80a9f0",
   "metadata": {},
   "outputs": [],
   "source": [
    "# Load the cgeneral configuration for the gra2pes\n",
    "config = gra2pes_config.Gra2pesConfig() \n",
    "\n",
    "# Define the regrid ID, which corresponds to the grid resolution. This is definde in the configuration file.\n",
    "regrid_id = '0.025x0.025' \n",
    "\n",
    "# Define the date range for which you want to open the regridded dataset\n",
    "dtr = datetime_utils.DateTimeRange('2021-01-01','2021-12-31 23:59',tz = 'UTC')\n",
    "\n",
    "# Create the regridded handler object\n",
    "rgh = gra2pes_utils.RegriddedGra2pesHandler(config,regrid_id) \n",
    "\n",
    "# Open the regridded dataset for the specified date range and sectors\n",
    "regridded_ds = rgh.open_ds_inrange(dtr,sectors='all')\n",
    "\n",
    "# Open the grid area dataset to get the cell area for the regridded grid, this should have been created\n",
    "# during the regridding process if run using the regrid script provided in the repository.\n",
    "gca = xr.open_dataset(os.path.join(rgh.regridded_path,'details','grid_out_area.nc'))['cell_area']"
   ]
  },
  {
   "cell_type": "code",
   "execution_count": null,
   "id": "2ceed13c",
   "metadata": {},
   "outputs": [],
   "source": [
    "# The regridded dataset is stored as an xarray dataset, separated by lat, lon, year, month, daytype (satdy, sundy, weekdy), \n",
    "# and sector as it is defined in the original GRA2PES tar files. \n",
    "\n",
    "regridded_ds # Show the regridded dataset"
   ]
  },
  {
   "cell_type": "markdown",
   "id": "f8af7f3c",
   "metadata": {},
   "source": [
    "We can also rework the time dimension to be more user-friendly and subsettable. This turns the multiple dimensions representing time (year, month, day_type, hour) into a single time dimension that can be easily indexed.\n",
    "\n",
    "**NOTE**: This can take quite a while to run depending on the extent of the data and the number of variables being processed. It is recommended to run this on a slice of the data. In this example, we are loading the dataset I regridded for the Salt Lake Valley using the gra2pes_regrid.py script with an extent of 40.0 to 42.0 latitude and -113.0 to -111.0 longitude."
   ]
  },
  {
   "cell_type": "code",
   "execution_count": null,
   "id": "eb924de4",
   "metadata": {},
   "outputs": [],
   "source": [
    "# Rework the dataset to a more convenient format. This can take a bit of time to run (~3 minutes for full dataset)\n",
    "ds = rgh.rework_ds_dt(regridded_ds[['CO2','CO','HC01']]) #Subset the dataset to 3 species so it doesn't take up all the RAM"
   ]
  },
  {
   "cell_type": "code",
   "execution_count": null,
   "id": "e840392f",
   "metadata": {},
   "outputs": [],
   "source": [
    "#View the reworked dataset\n",
    "ds"
   ]
  },
  {
   "cell_type": "markdown",
   "id": "b5197ca8",
   "metadata": {},
   "source": [
    "Now we can easily index the data by time, which is a single dimension. We can also slice by lat/lon and select specific sectors and data variables for analysis. We can also apply unit conversions to the data variables as needed. Examples are given below. "
   ]
  },
  {
   "cell_type": "code",
   "execution_count": null,
   "id": "07dd3244",
   "metadata": {},
   "outputs": [],
   "source": [
    "# Trim to lat/lon extent:\n",
    "slv_extent = {'lon_min':-112.15,\n",
    "                  'lon_max':-111.7,\n",
    "                  'lat_min':40.351,\n",
    "                  'lat_max':41.2} \n",
    "\n",
    "slv_ds = xr_utils.trim_ds_to_extent(ds,slv_extent)\n",
    "slv_gca = xr_utils.trim_ds_to_extent(gca,slv_extent)"
   ]
  },
  {
   "cell_type": "code",
   "execution_count": null,
   "id": "c85d713a",
   "metadata": {},
   "outputs": [],
   "source": [
    "# Convert units\n",
    "molar_masses = {'CO2':44.01, 'CO':28.01, 'HC01':16.04} # Define molar masses for conversion\n",
    "unit_converter = xr_utils.UnitConverter() # Create an instance of the UnitConverter class\n",
    "slv_ds = unit_converter.convert(slv_ds, 'km^-2', 'm^-2') # Convert units from km^-2 to m^-2\n",
    "slv_ds = unit_converter.convert_mole_to_g(slv_ds, molar_masses) # Convert moles to grams using the molar masses defined above\n",
    "slv_ds = unit_converter.convert(slv_ds, 'g', 'metric_Ton') # Convert grams to metric tons\n",
    "\n",
    "# Convert to absolute units of mass per grid cell using the grid cell area\n",
    "absolute_slv_ds = unit_converter.convert_m2_to_gridcell(slv_ds, slv_gca) "
   ]
  },
  {
   "cell_type": "code",
   "execution_count": null,
   "id": "a5724350",
   "metadata": {},
   "outputs": [],
   "source": [
    "absolute_slv_ds"
   ]
  },
  {
   "cell_type": "markdown",
   "id": "de9776ab",
   "metadata": {},
   "source": [
    "## Emissions Visualization\n",
    "Using the regridded, retimed, and unit-converted data, we can visualize the emissions data using matplotlib. I haven't yet made these plotting function modular, so the defined parameters are in the cells below, and can be altered as needed."
   ]
  },
  {
   "cell_type": "code",
   "execution_count": null,
   "id": "96657509",
   "metadata": {},
   "outputs": [],
   "source": [
    "# Define the plot characteristics \n",
    "\n",
    "# The dataset to plot. This is where you can specify any sums/averages from the dataset. In this case, I am plotting\n",
    "# the sum of the entire year, but this can be changed to any other aggregation you want.\n",
    "plot_ds = absolute_slv_ds.sum(dim = 'datetime', keep_attrs=True)\n",
    "plot_ds = unit_converter.update_all_units(plot_ds, 'hr^-1','yr^-1') # Convert the units to per year since we summed over the year. \n",
    "\n",
    "# The map extent for the plot (usually slightly larger than the data extent)\n",
    "map_extent={'lon_min':-112.22,\n",
    "            'lon_max':-111.65,\n",
    "            'lat_min':40.35,\n",
    "            'lat_max':41.3}  \n",
    "\n",
    "# The species to plot, this should be one of the species in the dataset\n",
    "species = 'CO2' \n",
    "\n",
    "# The sector to plot, 'total' is an included option that is the sum of all sectors\n",
    "sector = 'total' \n",
    "\n",
    "# The colormap to use for the plot\n",
    "cmap = 'Blues' "
   ]
  },
  {
   "cell_type": "code",
   "execution_count": null,
   "id": "1a08d4a7",
   "metadata": {},
   "outputs": [],
   "source": [
    "# Create the figure\n",
    "fig = plt.figure(figsize = (8,8)) # Define the figure size\n",
    "labsize = 20  # Define the label sizes\n",
    "proj = ccrs.PlateCarree() # Define the projection for the map\n",
    "ax = plt.axes(projection = proj) # Create the axes for the plot with the defined projection\n",
    "\n",
    "# Set the extent of the map\n",
    "ax.set_extent([map_extent['lon_min'],map_extent['lon_max'],map_extent['lat_min'],map_extent['lat_max']],crs=proj)\n",
    "request = cimgt.GoogleTiles(style='satellite') # Use Google satellite tiles for the background map\n",
    "scale = 12.0  # Define the scale for the background map, higher values give more detail (also take longer to load)\n",
    "ax.add_image(request,int(scale)) # Add the background map to the axes\n",
    "\n",
    "# Define the max value for the colorbar. This is set to 90% of the maximum value in the dataset to avoid \n",
    "# having very high values skewing the colorbar.\n",
    "max_value = plot_ds[species].max().values\n",
    "vmax_value = max_value*0.9\n",
    "\n",
    "# Plot the data on the map\n",
    "map = plot_ds[species].sel(sector=sector).plot.pcolormesh('lon','lat',ax = ax,alpha=0.6,cmap=cmap,add_colorbar=False,edgecolors = (0,0,0,0.1),linewidth = 0.2,vmax = vmax_value)\n",
    "\n",
    "# Add the colorbar to the plot\n",
    "cbar = plt.colorbar(map,fraction=0.05,pad = 0.02)\n",
    "cbar.set_label(label = plot_ds[species].sel(sector=sector).units, size = labsize)\n",
    "cbar.ax.tick_params(labelsize = labsize)\n",
    "\n",
    "plt.show()"
   ]
  },
  {
   "cell_type": "markdown",
   "id": "ac856778",
   "metadata": {},
   "source": [
    "# Ratio Visualization\n",
    "This section demonstrates how to visualize the ratio between two species at the grid cell level. "
   ]
  },
  {
   "cell_type": "code",
   "execution_count": null,
   "id": "cc02f5ca",
   "metadata": {},
   "outputs": [],
   "source": [
    "# Define the ratio dataset and convert the units\n",
    "ratio_ds = absolute_slv_ds.sel(sector='total').sum(dim = 'datetime', keep_attrs=True)\n",
    "ratio_ds = unit_converter.update_all_units(ratio_ds, 'hr^-1','yr^-1') # Convert the units to per year since we summed over the year. \n",
    "\n",
    "# Define the inventory ratios object\n",
    "ir = xr_utils.InventoryRatios(ratio_ds,molar_masses)"
   ]
  },
  {
   "cell_type": "code",
   "execution_count": null,
   "id": "54258887",
   "metadata": {},
   "outputs": [],
   "source": [
    "# Define the parameters for the ratio plot\n",
    "numerator = 'HC01' # The numerator species for the ratio\n",
    "denominator = 'CO2' # The denominator species for the ratio\n",
    "\n",
    "# These quantile filters are used to avoid having very low values skewing the ratio plot\n",
    "num_quantile_filter = 0.25 # The quantile filter for the numerator, this is used to filter out low values in the numerator\n",
    "denom_quantile_filter = 0.5 # The quantile filter for the denominator, this is used to filter out low values in the denominator\n",
    "\n",
    "# Get the ratio of the numerator to the denominator using the defined quantile filters. \n",
    "ratio_ds = ir.get_gc_ratio(numerator, denominator, \n",
    "                        num_quantile_filter = num_quantile_filter, \n",
    "                        denom_quantile_filter = denom_quantile_filter) \n",
    "\n",
    "# Add the CO2 equivelents to the ratio dataset to use for filtering plot cells\n",
    "ratio_ds['CO2_eq_sum'] = ratio_ds['CO2_eq_sum'].fillna(0)\n",
    "\n",
    "ratio_id = f'{numerator}_{denominator}'.lower() # Define the ratio ID for the plot"
   ]
  },
  {
   "cell_type": "code",
   "execution_count": null,
   "id": "f39f980e",
   "metadata": {},
   "outputs": [],
   "source": [
    "# Make the plot\n",
    "\n",
    "da = ratio_ds[ratio_id]*1000\n",
    "alpha_var = 'CO2_eq_sum'\n",
    "min_alpha = 0.3\n",
    "alphas = ratio_ds[alpha_var].values\n",
    "alphas = (alphas - alphas.min())/(alphas.max()-alphas.min())*(1-min_alpha)+min_alpha\n",
    "\n",
    "labsize = 40\n",
    "proj = ccrs.PlateCarree()\n",
    "\n",
    "fig = plt.figure(figsize = (12,12))\n",
    "ax = plt.axes(projection = proj)\n",
    "ax.set_extent([map_extent['lon_min'],map_extent['lon_max'],map_extent['lat_min'],map_extent['lat_max']],crs=proj)\n",
    "request = cimgt.GoogleTiles(style='satellite')\n",
    "scale = 12.0 # prob have to adjust this\n",
    "ax.add_image(request,int(scale))\n",
    "\n",
    "map = da.plot.pcolormesh('lon','lat',ax = ax,alpha=alphas,cmap='viridis',add_colorbar=False,edgecolors = (0,0,0,1),linewidth = 2,vmin = 0,vmax=10)#,vmin=0,vmax = 10)\n",
    "da.plot.pcolormesh('lon','lat', ax = ax,facecolors='none', edgecolors=(0, 0, 0, 1), linewidth=2,add_colorbar=False)\n",
    "\n",
    "cbar = plt.colorbar(map,fraction=0.045,pad = 0.02,location = 'right')\n",
    "cbar.set_label(label = f'{ratio_id} ratio (permille)',size = labsize)\n",
    "cbar.ax.tick_params(labelsize = labsize)\n",
    "\n",
    "\n",
    "plt.show()"
   ]
  }
 ],
 "metadata": {
  "kernelspec": {
   "display_name": "atmos",
   "language": "python",
   "name": "python3"
  },
  "language_info": {
   "codemirror_mode": {
    "name": "ipython",
    "version": 3
   },
   "file_extension": ".py",
   "mimetype": "text/x-python",
   "name": "python",
   "nbconvert_exporter": "python",
   "pygments_lexer": "ipython3",
   "version": "3.9.20"
  }
 },
 "nbformat": 4,
 "nbformat_minor": 5
}
