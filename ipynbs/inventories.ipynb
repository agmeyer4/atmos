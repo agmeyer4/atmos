{
 "cells": [
  {
   "cell_type": "code",
   "execution_count": 1,
   "metadata": {},
   "outputs": [],
   "source": [
    "import os\n",
    "import xarray as xr\n",
    "import sys \n",
    "from cartopy.io.img_tiles import OSM\n",
    "import matplotlib.pyplot as plt\n",
    "from lair.air import inventories\n",
    "from lair.utils.geo import PC, bbox2extent"
   ]
  },
  {
   "cell_type": "code",
   "execution_count": 2,
   "metadata": {},
   "outputs": [],
   "source": [
    "# SLV CH4 Point Sources\n",
    "\n",
    "from shapely.geometry import Point\n",
    "\n",
    "from lair.utils.geo import PC\n",
    "\n",
    "\n",
    "locations = {  # Satellite imagery center point\n",
    "    'landfill': {\n",
    "        'Salt Lake':    Point(-112.043, 40.746),\n",
    "        'Trans-Jordan': Point(-112.055, 40.558),\n",
    "        'Bountiful':    Point(-111.917, 40.911)},\n",
    "    'refinery': {  # EPA 2011 ICR mean location by facility name\n",
    "        'Chevron':        Point(-111.924, 40.825),\n",
    "        'Big West Oil':   Point(-111.920, 40.838),\n",
    "        'Marathon':       Point(-111.909, 40.794),\n",
    "        'Holly Refining': Point(-111.904, 40.887),\n",
    "        'Silver Eagle':   Point(-111.910, 40.868)},\n",
    "    'wastewater': {\n",
    "        'Magna Water & Sewer District':            Point(-112.074, 40.728),\n",
    "        'Central Valley Water Reclamation':        Point(-111.900, 40.682),\n",
    "        'Jordan Basin Water Reclamation Facility': Point(-111.919, 40.504),\n",
    "        'SLC Water Reclamation Facility':          Point(-111.931, 40.813),\n",
    "        'So. Valley Water Reclamation':            Point(-111.924, 40.615),\n",
    "        'South Davis Sewer District-South Plant':  Point(-111.942, 40.842),\n",
    "        'South Davis Sewer District-North Plant':  Point(-111.933, 40.903),\n",
    "        'Central Davis Co Sewer':                  Point(-111.945, 41.001)}\n",
    "}\n",
    "\n",
    "markers = {\n",
    "    'landfill': 's',\n",
    "    'refinery': '^',\n",
    "    'wastewater': 'o'\n",
    "}\n",
    "\n",
    "def plot_point_sources(kind, ax):\n",
    "    for source, point in locations[kind].items():\n",
    "        ax.scatter(point.x, point.y, transform=PC,\n",
    "                   label=source, c='black',\n",
    "                   marker=markers[kind])\n",
    "\n",
    "    return ax"
   ]
  },
  {
   "cell_type": "code",
   "execution_count": 3,
   "metadata": {},
   "outputs": [],
   "source": [
    "# Load inventories\n",
    "ch4_inventories = {\n",
    "    'EDGARv8':   inventories.EDGARv8('CH4'),\n",
    "    'EPAv1':     inventories.EPAv1(),\n",
    "    'EPAv2':     inventories.EPAv2(),\n",
    "    'GFEIv2':    inventories.GFEIv2(),\n",
    "    'WetCHARTs': inventories.WetCHARTs(),\n",
    "}"
   ]
  },
  {
   "cell_type": "code",
   "execution_count": 4,
   "metadata": {},
   "outputs": [],
   "source": [
    "SLV_bounds = (-112.1, 40.5,\n",
    "              -111.8, 41.0)\n",
    "\n",
    "# Clip to SLV bounds and get extent\n",
    "clip_bounds = (SLV_bounds[0] - 0.1, SLV_bounds[1] - 0.1,\n",
    "               SLV_bounds[2] + 0.1, SLV_bounds[3] + 0.1)\n",
    "ch4_inventories = {name: inventory.clip(clip_bounds)\n",
    "                   for name, inventory in ch4_inventories.items()}\n",
    "extent = bbox2extent(SLV_bounds)"
   ]
  },
  {
   "cell_type": "code",
   "execution_count": 5,
   "metadata": {},
   "outputs": [],
   "source": [
    "# Determine vmax for colorbar\n",
    "vmax = float(max(inventory.total_emissions.max()\n",
    "                 for inventory in ch4_inventories.values()))"
   ]
  },
  {
   "cell_type": "code",
   "execution_count": 8,
   "metadata": {},
   "outputs": [],
   "source": [
    "# Get background tiles\n",
    "tiler = OSM()\n",
    "tiler_zoom = 9"
   ]
  },
  {
   "cell_type": "code",
   "execution_count": 9,
   "metadata": {},
   "outputs": [],
   "source": [
    "# Figure options\n",
    "cmap = 'Reds'\n",
    "alpha = 0.75"
   ]
  },
  {
   "cell_type": "code",
   "execution_count": null,
   "metadata": {},
   "outputs": [],
   "source": [
    "# Plot\n",
    "fig, axes = plt.subplots(ncols=len(ch4_inventories), sharey=True,\n",
    "                         figsize=(15, 5),\n",
    "                         subplot_kw={'projection': tiler.crs})\n",
    "\n",
    "i = 1\n",
    "for ax, (name, inventory) in zip(axes.flatten(), ch4_inventories.items()):\n",
    "    ax.set_extent(extent, crs=PC)\n",
    "    ax.add_image(tiler, tiler_zoom)\n",
    "\n",
    "    # Add colorbar\n",
    "    if i == len(ch4_inventories):\n",
    "        add_colorbar = True\n",
    "        fig.subplots_adjust(right=0.8)\n",
    "        cbar_ax = fig.add_axes([0.825, axes[0].get_position().y0,\n",
    "                                0.05, axes[0].get_position().height])\n",
    "    else:\n",
    "        add_colorbar = False\n",
    "        cbar_ax = None\n",
    "\n",
    "    # Filter data to last year\n",
    "    year = inventory.data.time.dt.year.values[-1]  # Last year\n",
    "    data = inventory.total_emissions.sel(time=str(year)).mean(dim='time')\n",
    "\n",
    "    # Plot inventory\n",
    "    data.plot(ax=ax, transform=PC,\n",
    "              cmap=cmap, alpha=alpha,\n",
    "              vmin=0, vmax=vmax,\n",
    "              add_colorbar=add_colorbar, cbar_ax=cbar_ax)\n",
    "\n",
    "    # Plot point sources\n",
    "    plot_point_sources('landfill', ax)\n",
    "    plot_point_sources('refinery', ax)\n",
    "    \n",
    "    ax.set(title=f'{name}\\n{year}',\n",
    "           xlabel=None, ylabel=None)\n",
    "\n",
    "    i += 1"
   ]
  },
  {
   "cell_type": "code",
   "execution_count": null,
   "metadata": {},
   "outputs": [],
   "source": [
    "\n",
    "import matplotlib.pyplot as plt\n",
    "from lair.air import inventories\n",
    "\n",
    "plt.figure()\n",
    "i = inventories.EPAv2()\n",
    "i.clip([-112.2, 40.05, -111.2, 41], crs=4326)\n",
    "data = i.total_emissions.mean('time')\n",
    "integrated = i.integrate().isel(time=-1)\n",
    "data.plot()\n",
    "print(f'Original Dimensions: lat={data.lat.size}, lon={data.lon.size}')\n",
    "print(f'Original Total = {float(integrated)}')\n",
    "\n",
    "\n",
    "plt.figure()\n",
    "i.resample(0.2)\n",
    "resampled = i.total_emissions.mean('time')\n",
    "integrated = i.integrate().isel(time=-1)\n",
    "resampled.plot()\n",
    "print(f'Resampled Dimensions: lat={resampled.lat.size}, lon={resampled.lon.size}')\n",
    "print(f'Resampled Total = {float(integrated)}')"
   ]
  },
  {
   "cell_type": "markdown",
   "metadata": {},
   "source": [
    "# Derek Vulcan"
   ]
  },
  {
   "cell_type": "code",
   "execution_count": 3,
   "metadata": {},
   "outputs": [],
   "source": [
    "ds = xr.open_dataset('/uufs/chpc.utah.edu/common/home/u0703457/lin-group18/dvm/projects/CO2_USA_AQ/scripts/post_emiss_2019.nc',decode_times=False)"
   ]
  },
  {
   "cell_type": "code",
   "execution_count": null,
   "metadata": {},
   "outputs": [],
   "source": [
    "ds.sel(time=ds.time[0]).emiss.plot()"
   ]
  },
  {
   "cell_type": "markdown",
   "metadata": {},
   "source": [
    "# GRA2PES"
   ]
  },
  {
   "cell_type": "code",
   "execution_count": 10,
   "metadata": {},
   "outputs": [],
   "source": [
    "ds_main = xr.open_dataset('/uufs/chpc.utah.edu/common/home/lin-group9/agm/inventories/GRA2PES/base_v1.0/.download/202101/satdy/GRA2PESv1.0_AVIATION_202101_satdy_00to11Z.nc')\n",
    "ds_extra = xr.open_dataset('/uufs/chpc.utah.edu/common/home/lin-group9/agm/inventories/GRA2PES/methane/GRA2PESv1.0_AG/202101/satdy/GRA2PESv1.0_AG_202101_satdy_00to11Z.nc')"
   ]
  },
  {
   "cell_type": "code",
   "execution_count": null,
   "metadata": {},
   "outputs": [],
   "source": [
    "attrs_equal = ds_main.attrs == ds_extra.attrs\n",
    "dims_equal = ds_main.dims == ds_extra.dims\n",
    "coord_keys_equal = ds_main.coords.keys() == ds_extra.coords.keys()\n",
    "coord_values_equal = all([ds_main.coords[key].equals(ds_extra.coords[key]) for key in ds_main.coords.keys()])\n",
    "extra_vars = set(ds_extra.variables) - set(ds_main.variables)\n",
    "shared_vars = set(ds_main.variables) & set(ds_extra.variables)\n"
   ]
  },
  {
   "cell_type": "code",
   "execution_count": 21,
   "metadata": {},
   "outputs": [],
   "source": [
    "xr.testing.assert_equal(ds_main[shared_vars], ds_extra[shared_vars])"
   ]
  },
  {
   "cell_type": "code",
   "execution_count": null,
   "metadata": {},
   "outputs": [],
   "source": [
    "ds_extra"
   ]
  }
 ],
 "metadata": {
  "kernelspec": {
   "display_name": "lair",
   "language": "python",
   "name": "python3"
  },
  "language_info": {
   "codemirror_mode": {
    "name": "ipython",
    "version": 3
   },
   "file_extension": ".py",
   "mimetype": "text/x-python",
   "name": "python",
   "nbconvert_exporter": "python",
   "pygments_lexer": "ipython3",
   "version": "3.10.6"
  }
 },
 "nbformat": 4,
 "nbformat_minor": 2
}
