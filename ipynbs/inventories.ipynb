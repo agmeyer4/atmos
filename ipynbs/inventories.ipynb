{
 "cells": [
  {
   "cell_type": "code",
   "execution_count": 1,
   "metadata": {},
   "outputs": [],
   "source": [
    "import os\n",
    "import xarray as xr\n",
    "import numpy as np\n",
    "import pandas as pd\n",
    "import sys \n",
    "from plotly import graph_objects as go\n",
    "from plotly.subplots import make_subplots\n",
    "from cartopy.io.img_tiles import OSM\n",
    "import matplotlib.pyplot as plt\n",
    "import cartopy.crs as ccrs\n",
    "import cartopy.feature as cfeature\n",
    "import cartopy.io.img_tiles as cimgt\n",
    "\n",
    "#from lair.air import inventories\n",
    "#from lair.utils.geo import PC, bbox2extent"
   ]
  },
  {
   "cell_type": "markdown",
   "metadata": {},
   "source": [
    "# James LAIR"
   ]
  },
  {
   "cell_type": "code",
   "execution_count": 2,
   "metadata": {},
   "outputs": [],
   "source": [
    "# SLV CH4 Point Sources\n",
    "\n",
    "from shapely.geometry import Point\n",
    "\n",
    "from lair.utils.geo import PC\n",
    "\n",
    "\n",
    "locations = {  # Satellite imagery center point\n",
    "    'landfill': {\n",
    "        'Salt Lake':    Point(-112.043, 40.746),\n",
    "        'Trans-Jordan': Point(-112.055, 40.558),\n",
    "        'Bountiful':    Point(-111.917, 40.911)},\n",
    "    'refinery': {  # EPA 2011 ICR mean location by facility name\n",
    "        'Chevron':        Point(-111.924, 40.825),\n",
    "        'Big West Oil':   Point(-111.920, 40.838),\n",
    "        'Marathon':       Point(-111.909, 40.794),\n",
    "        'Holly Refining': Point(-111.904, 40.887),\n",
    "        'Silver Eagle':   Point(-111.910, 40.868)},\n",
    "    'wastewater': {\n",
    "        'Magna Water & Sewer District':            Point(-112.074, 40.728),\n",
    "        'Central Valley Water Reclamation':        Point(-111.900, 40.682),\n",
    "        'Jordan Basin Water Reclamation Facility': Point(-111.919, 40.504),\n",
    "        'SLC Water Reclamation Facility':          Point(-111.931, 40.813),\n",
    "        'So. Valley Water Reclamation':            Point(-111.924, 40.615),\n",
    "        'South Davis Sewer District-South Plant':  Point(-111.942, 40.842),\n",
    "        'South Davis Sewer District-North Plant':  Point(-111.933, 40.903),\n",
    "        'Central Davis Co Sewer':                  Point(-111.945, 41.001)}\n",
    "}\n",
    "\n",
    "markers = {\n",
    "    'landfill': 's',\n",
    "    'refinery': '^',\n",
    "    'wastewater': 'o'\n",
    "}\n",
    "\n",
    "def plot_point_sources(kind, ax):\n",
    "    for source, point in locations[kind].items():\n",
    "        ax.scatter(point.x, point.y, transform=PC,\n",
    "                   label=source, c='black',\n",
    "                   marker=markers[kind])\n",
    "\n",
    "    return ax"
   ]
  },
  {
   "cell_type": "code",
   "execution_count": 3,
   "metadata": {},
   "outputs": [],
   "source": [
    "# Load inventories\n",
    "ch4_inventories = {\n",
    "    'EDGARv8':   inventories.EDGARv8('CH4'),\n",
    "    'EPAv1':     inventories.EPAv1(),\n",
    "    'EPAv2':     inventories.EPAv2(),\n",
    "    'GFEIv2':    inventories.GFEIv2(),\n",
    "    'WetCHARTs': inventories.WetCHARTs(),\n",
    "}"
   ]
  },
  {
   "cell_type": "code",
   "execution_count": 4,
   "metadata": {},
   "outputs": [],
   "source": [
    "SLV_bounds = (-112.1, 40.5,\n",
    "              -111.8, 41.0)\n",
    "\n",
    "# Clip to SLV bounds and get extent\n",
    "clip_bounds = (SLV_bounds[0] - 0.1, SLV_bounds[1] - 0.1,\n",
    "               SLV_bounds[2] + 0.1, SLV_bounds[3] + 0.1)\n",
    "ch4_inventories = {name: inventory.clip(clip_bounds)\n",
    "                   for name, inventory in ch4_inventories.items()}\n",
    "extent = bbox2extent(SLV_bounds)"
   ]
  },
  {
   "cell_type": "code",
   "execution_count": 5,
   "metadata": {},
   "outputs": [],
   "source": [
    "# Determine vmax for colorbar\n",
    "vmax = float(max(inventory.total_emissions.max()\n",
    "                 for inventory in ch4_inventories.values()))"
   ]
  },
  {
   "cell_type": "code",
   "execution_count": 8,
   "metadata": {},
   "outputs": [],
   "source": [
    "# Get background tiles\n",
    "tiler = OSM()\n",
    "tiler_zoom = 9"
   ]
  },
  {
   "cell_type": "code",
   "execution_count": 9,
   "metadata": {},
   "outputs": [],
   "source": [
    "# Figure options\n",
    "cmap = 'Reds'\n",
    "alpha = 0.75"
   ]
  },
  {
   "cell_type": "code",
   "execution_count": null,
   "metadata": {},
   "outputs": [],
   "source": [
    "# Plot\n",
    "fig, axes = plt.subplots(ncols=len(ch4_inventories), sharey=True,\n",
    "                         figsize=(15, 5),\n",
    "                         subplot_kw={'projection': tiler.crs})\n",
    "\n",
    "i = 1\n",
    "for ax, (name, inventory) in zip(axes.flatten(), ch4_inventories.items()):\n",
    "    ax.set_extent(extent, crs=PC)\n",
    "    ax.add_image(tiler, tiler_zoom)\n",
    "\n",
    "    # Add colorbar\n",
    "    if i == len(ch4_inventories):\n",
    "        add_colorbar = True\n",
    "        fig.subplots_adjust(right=0.8)\n",
    "        cbar_ax = fig.add_axes([0.825, axes[0].get_position().y0,\n",
    "                                0.05, axes[0].get_position().height])\n",
    "    else:\n",
    "        add_colorbar = False\n",
    "        cbar_ax = None\n",
    "\n",
    "    # Filter data to last year\n",
    "    year = inventory.data.time.dt.year.values[-1]  # Last year\n",
    "    data = inventory.total_emissions.sel(time=str(year)).mean(dim='time')\n",
    "\n",
    "    # Plot inventory\n",
    "    data.plot(ax=ax, transform=PC,\n",
    "              cmap=cmap, alpha=alpha,\n",
    "              vmin=0, vmax=vmax,\n",
    "              add_colorbar=add_colorbar, cbar_ax=cbar_ax)\n",
    "\n",
    "    # Plot point sources\n",
    "    plot_point_sources('landfill', ax)\n",
    "    plot_point_sources('refinery', ax)\n",
    "    \n",
    "    ax.set(title=f'{name}\\n{year}',\n",
    "           xlabel=None, ylabel=None)\n",
    "\n",
    "    i += 1"
   ]
  },
  {
   "cell_type": "code",
   "execution_count": null,
   "metadata": {},
   "outputs": [],
   "source": [
    "\n",
    "import matplotlib.pyplot as plt\n",
    "from lair.air import inventories\n",
    "\n",
    "plt.figure()\n",
    "i = inventories.EPAv2()\n",
    "i.clip([-112.2, 40.05, -111.2, 41], crs=4326)\n",
    "data = i.total_emissions.mean('time')\n",
    "integrated = i.integrate().isel(time=-1)\n",
    "data.plot()\n",
    "print(f'Original Dimensions: lat={data.lat.size}, lon={data.lon.size}')\n",
    "print(f'Original Total = {float(integrated)}')\n",
    "\n",
    "\n",
    "plt.figure()\n",
    "i.resample(0.2)\n",
    "resampled = i.total_emissions.mean('time')\n",
    "integrated = i.integrate().isel(time=-1)\n",
    "resampled.plot()\n",
    "print(f'Resampled Dimensions: lat={resampled.lat.size}, lon={resampled.lon.size}')\n",
    "print(f'Resampled Total = {float(integrated)}')"
   ]
  },
  {
   "cell_type": "markdown",
   "metadata": {},
   "source": [
    "# Derek Vulcan"
   ]
  },
  {
   "cell_type": "code",
   "execution_count": 2,
   "metadata": {},
   "outputs": [],
   "source": [
    "def load_convert_times(nc_path,lat_bounds,lon_bounds):\n",
    "    ds = xr.open_dataset(nc_path,decode_times = False)\n",
    "    ds['time'] = pd.to_datetime(ds['time'].values,unit = 's')\n",
    "    #ds = slice_latlon(ds, lat_bounds, lon_bounds)\n",
    "    return ds\n",
    "    \n",
    "def slice_latlon(ds, lat_bounds, lon_bounds):\n",
    "    return ds.sel(lat = slice(*lat_bounds), lon = slice(*lon_bounds))"
   ]
  },
  {
   "cell_type": "markdown",
   "metadata": {},
   "source": [
    "## First try with stuff in \"scripts\" folder"
   ]
  },
  {
   "cell_type": "code",
   "execution_count": 4,
   "metadata": {},
   "outputs": [],
   "source": [
    "prior_2019 = load_convert_times('/uufs/chpc.utah.edu/common/home/lin-group9/agm/inventories/Mallia_SLC/scripts/prior_emiss_2019.nc')\n",
    "posterior_2019 = load_convert_times('/uufs/chpc.utah.edu/common/home/lin-group9/agm/inventories/Mallia_SLC/scripts/post_emiss_2019.nc')\n",
    "prior_2020 = load_convert_times('/uufs/chpc.utah.edu/common/home/lin-group9/agm/inventories/Mallia_SLC/scripts/prior_emiss_2020.nc')\n",
    "posterior_2020 = load_convert_times('/uufs/chpc.utah.edu/common/home/lin-group9/agm/inventories/Mallia_SLC/scripts/post_emiss_2020.nc')"
   ]
  },
  {
   "cell_type": "code",
   "execution_count": 5,
   "metadata": {},
   "outputs": [],
   "source": [
    "prior_2019_timedf = prior_2019['emiss'].sum(dim = ['lat','lon']).to_dataframe().rename(columns = {'emiss':'prior_2019'})\n",
    "posterior_2019_timedf = posterior_2019['emiss'].sum(dim = ['lat','lon']).to_dataframe().rename(columns = {'emiss':'posterior_2019'})\n",
    "timedf_2019 = pd.concat([prior_2019_timedf,posterior_2019_timedf],axis = 1)\n",
    "\n",
    "prior_2020_timedf = prior_2020['emiss'].sum(dim = ['lat','lon']).to_dataframe().rename(columns = {'emiss':'prior_2020'})\n",
    "posterior_2020_timedf = posterior_2020['emiss'].sum(dim = ['lat','lon']).to_dataframe().rename(columns = {'emiss':'posterior_2020'})\n",
    "timedf_2020 = pd.concat([prior_2020_timedf,posterior_2020_timedf],axis = 1)"
   ]
  },
  {
   "cell_type": "code",
   "execution_count": null,
   "metadata": {},
   "outputs": [],
   "source": [
    "# Create subplots with shared y-axes\n",
    "fig = make_subplots(rows=1, cols=2, shared_yaxes=True, horizontal_spacing=0.05)\n",
    "\n",
    "# Add traces for 2019\n",
    "fig.add_trace(go.Scatter(\n",
    "    x=timedf_2019.index,\n",
    "    y=timedf_2019['prior_2019'],\n",
    "    mode='lines',\n",
    "    name='Prior 2019'\n",
    "), row=1, col=1)\n",
    "\n",
    "fig.add_trace(go.Scatter(\n",
    "    x=timedf_2019.index,\n",
    "    y=timedf_2019['posterior_2019'],\n",
    "    mode='lines',\n",
    "    name='Posterior 2019'\n",
    "), row=1, col=1)\n",
    "\n",
    "# Add traces for 2020\n",
    "fig.add_trace(go.Scatter(\n",
    "    x=timedf_2020.index,\n",
    "    y=timedf_2020['prior_2020'],\n",
    "    mode='lines',\n",
    "    name='Prior 2020'\n",
    "), row=1, col=2)\n",
    "\n",
    "fig.add_trace(go.Scatter(\n",
    "    x=timedf_2020.index,\n",
    "    y=timedf_2020['posterior_2020'],\n",
    "    mode='lines',\n",
    "    name='Posterior 2020'\n",
    "), row=1, col=2)\n",
    "\n",
    "# Define common tick values and labels\n",
    "common_ticks = ['2019-03-01', '2019-04-01','2019-05-01', '2020-03-01','2020-04-01', '2020-05-01']\n",
    "common_labels = ['Mar 2019', 'Apr 2019', 'May 2019', 'Mar 2020', 'Apr 2020', 'May 2020']\n",
    "\n",
    "# Update layout\n",
    "fig.update_layout(\n",
    "    yaxis_title='Sum of Gridcell Emissions (umol/s)/gca',\n",
    "    xaxis=dict(\n",
    "        title='2019',\n",
    "        tickvals=common_ticks[:3],\n",
    "        ticktext=common_labels[:3],\n",
    "        showgrid=True\n",
    "    ),\n",
    "    xaxis2=dict(\n",
    "        title='2020',\n",
    "        tickvals=common_ticks[3:],\n",
    "        ticktext=common_labels[3:],\n",
    "        showgrid=True\n",
    "    )\n",
    ")\n",
    "\n",
    "fig.show()"
   ]
  },
  {
   "cell_type": "markdown",
   "metadata": {},
   "source": [
    "### 2019"
   ]
  },
  {
   "cell_type": "code",
   "execution_count": 15,
   "metadata": {},
   "outputs": [],
   "source": [
    "diff_2019 = posterior_2019-prior_2019\n",
    "afternoon_diff_2019 = diff_2019.sel(  time = (diff_2019['time'].dt.hour.isin([18,19,20,21,22,23,0])) & \n",
    "                                        (diff_2019['time'].dt.month.isin([3,4]))  \n",
    "                                    ).mean('time')\n",
    "afternoon_diff_2019['emiss'].attrs['units'] = 'emission_diff'\n",
    "\n",
    "perc_diff_2019 = (posterior_2019-prior_2019)/prior_2019\n",
    "afternoon_perc_diff_2019 = perc_diff_2019.sel(  time = (diff_2019['time'].dt.hour.isin([18,19,20,21,22,23,0])) & \n",
    "                                        (diff_2019['time'].dt.month.isin([3,4]))  \n",
    "                                    ).mean('time')\n",
    "afternoon_perc_diff_2019['emiss'].attrs['units'] = 'emission_perc_diff'\n"
   ]
  },
  {
   "cell_type": "code",
   "execution_count": null,
   "metadata": {},
   "outputs": [],
   "source": [
    "map_extent={'lon_min':-112.2,\n",
    "        'lon_max':-111.55,\n",
    "        'lat_min':40.3,\n",
    "        'lat_max':41.1} \n",
    "\n",
    "labsize = 12\n",
    "proj = ccrs.PlateCarree()\n",
    "fig = plt.figure(figsize=(6,6))\n",
    "ax = plt.axes(projection = proj)\n",
    "ax.set_extent([map_extent['lon_min'],map_extent['lon_max'],map_extent['lat_min'],map_extent['lat_max']],crs=proj)\n",
    "\n",
    "diff_plot = afternoon_diff_2019['emiss'].plot(ax=ax,transform=proj,cmap = 'coolwarm',vmin=-20,vmax = 20,alpha = 0.8)\n",
    "\n",
    "request = cimgt.GoogleTiles(style='street')\n",
    "scale = 10.0 # prob have to adjust this\n",
    "ax.add_image(request,int(scale))\n",
    "\n",
    "plt.show()"
   ]
  },
  {
   "cell_type": "code",
   "execution_count": null,
   "metadata": {},
   "outputs": [],
   "source": [
    "map_extent={'lon_min':-112.2,\n",
    "        'lon_max':-111.55,\n",
    "        'lat_min':40.3,\n",
    "        'lat_max':41.1} \n",
    "\n",
    "labsize = 12\n",
    "proj = ccrs.PlateCarree()\n",
    "fig = plt.figure(figsize=(6,6))\n",
    "ax = plt.axes(projection = proj)\n",
    "ax.set_extent([map_extent['lon_min'],map_extent['lon_max'],map_extent['lat_min'],map_extent['lat_max']],crs=proj)\n",
    "\n",
    "diff_plot = afternoon_perc_diff_2019['emiss'].plot(ax=ax,transform=proj,cmap = 'Purples_r',vmin=-0.1,vmax = -0.4,alpha = 0.8)\n",
    "\n",
    "request = cimgt.GoogleTiles(style='street')\n",
    "scale = 10.0 # prob have to adjust this\n",
    "ax.add_image(request,int(scale))\n",
    "\n",
    "plt.show()"
   ]
  },
  {
   "cell_type": "markdown",
   "metadata": {},
   "source": [
    "## Second try with stuff in \"inversion_inputs\" folder"
   ]
  },
  {
   "cell_type": "code",
   "execution_count": 18,
   "metadata": {},
   "outputs": [],
   "source": [
    "prior_2019 = load_convert_times('/uufs/chpc.utah.edu/common/home/lin-group9/agm/inventories/Mallia_SLC/inversion_inputs/prior_emiss_2019.nc')\n",
    "prior_2020 = load_convert_times('/uufs/chpc.utah.edu/common/home/lin-group9/agm/inventories/Mallia_SLC/inversion_inputs/prior_emiss_2020.nc')\n"
   ]
  },
  {
   "cell_type": "code",
   "execution_count": 25,
   "metadata": {},
   "outputs": [],
   "source": [
    "prior_2019_timedf = prior_2019['emiss'].sum(dim = ['lat','lon']).to_dataframe().rename(columns = {'emiss':'prior_2019'})\n",
    "#posterior_2019_timedf = posterior_2019['emiss'].sum(dim = ['lat','lon']).to_dataframe().rename(columns = {'emiss':'posterior_2019'})\n",
    "timedf_2019 =  pd.concat([prior_2019_timedf,posterior_2019_timedf],axis = 1)\n",
    "\n",
    "prior_2020_timedf = prior_2020['emiss'].sum(dim = ['lat','lon']).to_dataframe().rename(columns = {'emiss':'prior_2020'})\n",
    "#posterior_2020_timedf = posterior_2020['emiss'].sum(dim = ['lat','lon']).to_dataframe().rename(columns = {'emiss':'posterior_2020'})\n",
    "timedf_2020 = pd.concat([prior_2020_timedf,posterior_2020_timedf],axis = 1)"
   ]
  },
  {
   "cell_type": "code",
   "execution_count": null,
   "metadata": {},
   "outputs": [],
   "source": [
    "# Create subplots with shared y-axes\n",
    "fig = make_subplots(rows=1, cols=2, shared_yaxes=True, horizontal_spacing=0.05)\n",
    "\n",
    "# Add traces for 2019\n",
    "fig.add_trace(go.Scatter(\n",
    "    x=timedf_2019.index,\n",
    "    y=timedf_2019['prior_2019'],\n",
    "    mode='lines',\n",
    "    name='Prior 2019'\n",
    "), row=1, col=1)\n",
    "\n",
    "fig.add_trace(go.Scatter(\n",
    "    x=timedf_2019.index,\n",
    "    y=timedf_2019['posterior_2019'],\n",
    "    mode='lines',\n",
    "    name='Posterior 2019'\n",
    "), row=1, col=1)\n",
    "\n",
    "# Add traces for 2020\n",
    "fig.add_trace(go.Scatter(\n",
    "    x=timedf_2020.index,\n",
    "    y=timedf_2020['prior_2020'],\n",
    "    mode='lines',\n",
    "    name='Prior 2020'\n",
    "), row=1, col=2)\n",
    "\n",
    "# fig.add_trace(go.Scatter(\n",
    "#     x=timedf_2020.index,\n",
    "#     y=timedf_2020['posterior_2020'],\n",
    "#     mode='lines',\n",
    "#     name='Posterior 2020'\n",
    "# ), row=1, col=2)\n",
    "\n",
    "# Define common tick values and labels\n",
    "common_ticks = ['2019-03-01', '2019-04-01','2019-05-01', '2020-03-01','2020-04-01', '2020-05-01']\n",
    "common_labels = ['Mar 2019', 'Apr 2019', 'May 2019', 'Mar 2020', 'Apr 2020', 'May 2020']\n",
    "\n",
    "# Update layout\n",
    "fig.update_layout(\n",
    "    yaxis_title='Sum of Gridcell Emissions (umol/s)/gca',\n",
    "    xaxis=dict(\n",
    "        title='2019',\n",
    "        tickvals=common_ticks[:3],\n",
    "        ticktext=common_labels[:3],\n",
    "        showgrid=True\n",
    "    ),\n",
    "    xaxis2=dict(\n",
    "        title='2020',\n",
    "        tickvals=common_ticks[3:],\n",
    "        ticktext=common_labels[3:],\n",
    "        showgrid=True\n",
    "    )\n",
    ")\n",
    "\n",
    "fig.show()"
   ]
  },
  {
   "cell_type": "markdown",
   "metadata": {},
   "source": [
    "## Files taken from \"emiss_inventories/scaled_vulcan\" folder"
   ]
  },
  {
   "cell_type": "code",
   "execution_count": 3,
   "metadata": {},
   "outputs": [],
   "source": [
    "lat_bounds = [40.4, 41]\n",
    "lon_bounds = [-112.15, -111.73] \n",
    "base_dir = '/uufs/chpc.utah.edu/common/home/lin-group9/agm/inventories/Mallia_SLC/emiss_inventories_scaled_vulcan/'\n",
    "\n",
    "prior_2019_fname = 'vulcan_gsv_emiss_2019_V1.nc'\n",
    "prior_2019 = load_convert_times(os.path.join(base_dir,prior_2019_fname),lat_bounds,lon_bounds)\n",
    "\n",
    "posterior_2019_fname = 'vulcan_gsv_emiss_2019_inv-updated_noDT.nc'\n",
    "posterior_2019 = load_convert_times(os.path.join(base_dir,posterior_2019_fname),lat_bounds,lon_bounds)\n",
    "\n",
    "prior_2020_fname = 'vulcan_gsv_emiss_2020_inv-updated_noDT.nc'\n",
    "prior_2020 = load_convert_times(os.path.join(base_dir,prior_2020_fname),lat_bounds,lon_bounds)\n",
    "\n",
    "posterior_2020_fname = 'vulcan_gsv_emiss_2020_covid-adjusted.nc'\n",
    "posterior_2020 = load_convert_times(os.path.join(base_dir,posterior_2020_fname),lat_bounds,lon_bounds)"
   ]
  },
  {
   "cell_type": "code",
   "execution_count": null,
   "metadata": {},
   "outputs": [],
   "source": [
    "posterior_2020"
   ]
  },
  {
   "cell_type": "code",
   "execution_count": 5,
   "metadata": {},
   "outputs": [],
   "source": [
    "posterior_2019 = posterior_2019.sel(time=slice('2019-03-01','2019-04-30'))\n",
    "posterior_2019['emiss'].attrs['long_name'] = 'Posterior 2019'\n",
    "\n",
    "prior_2020 = prior_2020.sel(time=slice('2020-03-15','2020-04-30'))\n",
    "prior_2020['emiss'].attrs['long_name'] = 'Prior 2020'\n",
    "\n",
    "posterior_2020 = posterior_2020.sel(time=slice('2020-03-15','2020-04-30'))\n",
    "posterior_2020['emiss'].attrs['long_name'] = 'Posterior 2020'"
   ]
  },
  {
   "cell_type": "code",
   "execution_count": 7,
   "metadata": {},
   "outputs": [],
   "source": [
    "prior_2019.to_netcdf('/uufs/chpc.utah.edu/common/home/u0890904/LAIR_1/Data/NC/for_haley/prior_2019.nc')\n",
    "posterior_2019.to_netcdf('/uufs/chpc.utah.edu/common/home/u0890904/LAIR_1/Data/NC/for_haley/posterior_2019.nc')\n",
    "prior_2020.to_netcdf('/uufs/chpc.utah.edu/common/home/u0890904/LAIR_1/Data/NC/for_haley/prior_2020.nc')\n",
    "posterior_2020.to_netcdf('/uufs/chpc.utah.edu/common/home/u0890904/LAIR_1/Data/NC/for_haley/posterior_2020.nc')"
   ]
  },
  {
   "cell_type": "code",
   "execution_count": 4,
   "metadata": {},
   "outputs": [],
   "source": [
    "prior_2019_timedf = prior_2019['emiss'].sum(dim = ['lat','lon']).to_dataframe().rename(columns = {'emiss':'prior_2019'})\n",
    "posterior_2019_timedf = posterior_2019['emiss'].sum(dim = ['lat','lon']).to_dataframe().rename(columns = {'emiss':'posterior_2019'})\n",
    "timedf_2019 = pd.concat([prior_2019_timedf,posterior_2019_timedf],axis = 1)\n",
    "\n",
    "prior_2020_timedf = prior_2020['emiss'].sum(dim = ['lat','lon']).to_dataframe().rename(columns = {'emiss':'prior_2020'})\n",
    "posterior_2020_timedf = posterior_2020['emiss'].sum(dim = ['lat','lon']).to_dataframe().rename(columns = {'emiss':'posterior_2020'})\n",
    "timedf_2020 = pd.concat([prior_2020_timedf,posterior_2020_timedf],axis = 1)\n",
    "\n",
    "spring_timedf_2019 = timedf_2019.loc[(timedf_2019.index >= '2019-03-01') & (timedf_2019.index <= '2019-04-30')]\n",
    "spring_timedf_2020 = timedf_2020.loc[(timedf_2020.index >= '2020-03-15') & (timedf_2020.index <= '2020-04-30')]"
   ]
  },
  {
   "cell_type": "markdown",
   "metadata": {},
   "source": [
    "#### Full  timeseries"
   ]
  },
  {
   "cell_type": "code",
   "execution_count": null,
   "metadata": {},
   "outputs": [],
   "source": [
    "# Create subplots with shared y-axes\n",
    "fig = make_subplots(rows=1, cols=2, shared_yaxes=True, horizontal_spacing=0.05)\n",
    "\n",
    "# Add traces for 2019\n",
    "fig.add_trace(go.Scatter(\n",
    "    x=timedf_2019.index,\n",
    "    y=timedf_2019['prior_2019'],\n",
    "    mode='lines',\n",
    "    name='Prior 2019'\n",
    "), row=1, col=1)\n",
    "\n",
    "fig.add_trace(go.Scatter(\n",
    "    x=timedf_2019.index,\n",
    "    y=timedf_2019['posterior_2019'],\n",
    "    mode='lines',\n",
    "    name='Posterior 2019'\n",
    "), row=1, col=1)\n",
    "\n",
    "# Add traces for 2020\n",
    "fig.add_trace(go.Scatter(\n",
    "    x=timedf_2020.index,\n",
    "    y=timedf_2020['prior_2020'],\n",
    "    mode='lines',\n",
    "    name='Prior 2020'\n",
    "), row=1, col=2)\n",
    "\n",
    "fig.add_trace(go.Scatter(\n",
    "    x=timedf_2020.index,\n",
    "    y=timedf_2020['posterior_2020'],\n",
    "    mode='lines',\n",
    "    name='Posterior 2020'\n",
    "), row=1, col=2)\n",
    "\n",
    "# Define common tick values and labels\n",
    "common_ticks = pd.date_range(start='2019-01-01', end='2020-12-31', freq='MS').strftime('%Y-%m-%d').tolist()\n",
    "common_labels = pd.date_range(start='2019-01-01', end='2020-12-31', freq='MS').strftime('%b %Y').tolist()\n",
    "\n",
    "# Update layout\n",
    "fig.update_layout(\n",
    "    yaxis_title='Sum of Gridcell Emissions (umol/s)/gca',\n",
    "    xaxis=dict(\n",
    "        title='2019',\n",
    "        tickvals=common_ticks[:12],\n",
    "        ticktext=common_labels[:12],\n",
    "        showgrid=True\n",
    "    ),\n",
    "    xaxis2=dict(\n",
    "        title='2020',\n",
    "        tickvals=common_ticks[12:],\n",
    "        ticktext=common_labels[12:],\n",
    "        showgrid=True\n",
    "    )\n",
    ")\n",
    "\n",
    "fig.show()"
   ]
  },
  {
   "cell_type": "markdown",
   "metadata": {},
   "source": [
    "#### Spring timeseries"
   ]
  },
  {
   "cell_type": "code",
   "execution_count": null,
   "metadata": {},
   "outputs": [],
   "source": [
    "# Create subplots with shared y-axes\n",
    "fig = make_subplots(rows=1, cols=2, shared_yaxes=True, horizontal_spacing=0.05)\n",
    "\n",
    "# Add traces for 2019\n",
    "fig.add_trace(go.Scatter(\n",
    "    x=spring_timedf_2019.index,\n",
    "    y=spring_timedf_2019['prior_2019'],\n",
    "    mode='lines',\n",
    "    name='Prior 2019'\n",
    "), row=1, col=1)\n",
    "\n",
    "fig.add_trace(go.Scatter(\n",
    "    x=spring_timedf_2019.index,\n",
    "    y=spring_timedf_2019['posterior_2019'],\n",
    "    mode='lines',\n",
    "    name='Posterior 2019'\n",
    "), row=1, col=1)\n",
    "\n",
    "# Add traces for 2020\n",
    "fig.add_trace(go.Scatter(\n",
    "    x=spring_timedf_2020.index,\n",
    "    y=spring_timedf_2020['prior_2020'],\n",
    "    mode='lines',\n",
    "    name='Prior 2020'\n",
    "), row=1, col=2)\n",
    "\n",
    "fig.add_trace(go.Scatter(\n",
    "    x=spring_timedf_2020.index,\n",
    "    y=spring_timedf_2020['posterior_2020'],\n",
    "    mode='lines',\n",
    "    name='Posterior 2020'\n",
    "), row=1, col=2)\n",
    "\n",
    "# Define common tick values and labels\n",
    "common_ticks = pd.date_range(start='2019-01-01', end='2020-12-31', freq='MS').strftime('%Y-%m-%d').tolist()\n",
    "common_labels = pd.date_range(start='2019-01-01', end='2020-12-31', freq='MS').strftime('%b %Y').tolist()\n",
    "\n",
    "# Update layout\n",
    "fig.update_layout(\n",
    "    yaxis_title='Sum of Gridcell Emissions (umol/s)/gca',)\n",
    "#     xaxis=dict(\n",
    "#         title='2019',\n",
    "#         tickvals=common_ticks[:12],\n",
    "#         ticktext=common_labels[:12],\n",
    "#         showgrid=True\n",
    "#     ),\n",
    "#     xaxis2=dict(\n",
    "#         title='2020',\n",
    "#         tickvals=common_ticks[12:],\n",
    "#         ticktext=common_labels[12:],\n",
    "#         showgrid=True\n",
    "#     )\n",
    "# )\n",
    "\n",
    "fig.show()"
   ]
  },
  {
   "cell_type": "code",
   "execution_count": null,
   "metadata": {},
   "outputs": [],
   "source": [
    "posterior_2019_ave = posterior_2019.mean('time')\n",
    "map_extent = {'lon_min': -112.2, 'lon_max': -111.55, 'lat_min': 40.3, 'lat_max': 41.1}\n",
    "labsize = 12\n",
    "proj = ccrs.PlateCarree()\n",
    "\n",
    "# Create a figure with two subplots side by side\n",
    "fig, ax1 = plt.subplots(1, 1, figsize=(6, 6), subplot_kw={'projection': proj})\n",
    "\n",
    "# Plot the first map\n",
    "ax1.set_extent([map_extent['lon_min'], map_extent['lon_max'], map_extent['lat_min'], map_extent['lat_max']], crs=proj)\n",
    "diff_plot1 = posterior_2019_ave['emiss'].plot(ax=ax1, transform=proj, cmap='Reds', vmax = 100,alpha=0.8)\n",
    "request = cimgt.GoogleTiles(style='street')\n",
    "scale = 10.0\n",
    "ax1.add_image(request, int(scale))\n",
    "\n",
    "plt.show()"
   ]
  },
  {
   "cell_type": "markdown",
   "metadata": {},
   "source": [
    "### 2019 Differences"
   ]
  },
  {
   "cell_type": "code",
   "execution_count": 14,
   "metadata": {},
   "outputs": [],
   "source": [
    "diff_2019 = posterior_2019-prior_2019\n",
    "afternoon_diff_2019 = diff_2019.sel(  time = (diff_2019['time'].dt.hour.isin([18,19,20,21,22,23,0])) & \n",
    "                                        (diff_2019['time'].dt.month.isin([3,4]))  \n",
    "                                    ).mean('time')\n",
    "afternoon_diff_2019['emiss'].attrs['units'] = 'emission_diff'\n",
    "\n",
    "perc_diff_2019 = (posterior_2019-prior_2019)/prior_2019\n",
    "afternoon_perc_diff_2019 = perc_diff_2019.sel(  time = (perc_diff_2019['time'].dt.hour.isin([18,19,20,21,22,23,0])) & \n",
    "                                        (perc_diff_2019['time'].dt.month.isin([3,4]))  \n",
    "                                    ).mean('time')\n",
    "afternoon_perc_diff_2019['emiss'].attrs['units'] = 'emission_perc_diff'\n"
   ]
  },
  {
   "cell_type": "code",
   "execution_count": null,
   "metadata": {},
   "outputs": [],
   "source": [
    "map_extent = {'lon_min': -112.2, 'lon_max': -111.55, 'lat_min': 40.3, 'lat_max': 41.1}\n",
    "labsize = 12\n",
    "proj = ccrs.PlateCarree()\n",
    "\n",
    "# Create a figure with two subplots side by side\n",
    "fig, (ax1, ax2) = plt.subplots(1, 2, figsize=(12, 6), subplot_kw={'projection': proj})\n",
    "\n",
    "# Plot the first map\n",
    "ax1.set_extent([map_extent['lon_min'], map_extent['lon_max'], map_extent['lat_min'], map_extent['lat_max']], crs=proj)\n",
    "diff_plot1 = afternoon_diff_2019['emiss'].plot(ax=ax1, transform=proj, cmap='coolwarm', vmin=-20, vmax=20, alpha=0.8)\n",
    "request = cimgt.GoogleTiles(style='street')\n",
    "scale = 10.0\n",
    "ax1.add_image(request, int(scale))\n",
    "\n",
    "# Plot the second map\n",
    "ax2.set_extent([map_extent['lon_min'], map_extent['lon_max'], map_extent['lat_min'], map_extent['lat_max']], crs=proj)\n",
    "diff_plot2 = afternoon_perc_diff_2019['emiss'].plot(ax=ax2, transform=proj, cmap='Purples_r', vmin=-0.1, vmax=-0.4, alpha=0.8)\n",
    "ax2.add_image(request, int(scale))\n",
    "\n",
    "plt.show()"
   ]
  },
  {
   "cell_type": "markdown",
   "metadata": {},
   "source": [
    "### 2020"
   ]
  },
  {
   "cell_type": "code",
   "execution_count": 30,
   "metadata": {},
   "outputs": [],
   "source": [
    "diff_2020 = posterior_2020-prior_2020\n",
    "afternoon_diff_2020 = diff_2020.sel(  time = (diff_2020['time'].dt.hour.isin([18,19,20,21,22,23,0])) & \n",
    "                                        (diff_2020['time'].dt.month.isin([3,4]))  \n",
    "                                    ).mean('time')\n",
    "afternoon_diff_2020['emiss'].attrs['units'] = 'emission_diff'\n",
    "\n",
    "perc_diff_2020 = (posterior_2020-prior_2020)/prior_2020\n",
    "afternoon_perc_diff_2020= perc_diff_2020.sel(  time = (perc_diff_2020['time'].dt.hour.isin([18,19,20,21,22,23,0])) & \n",
    "                                        (perc_diff_2020['time'].dt.month.isin([3,4]))  \n",
    "                                    ).mean('time')\n",
    "afternoon_perc_diff_2020['emiss'].attrs['units'] = 'emission_perc_diff'\n"
   ]
  },
  {
   "cell_type": "code",
   "execution_count": null,
   "metadata": {},
   "outputs": [],
   "source": [
    "map_extent = {'lon_min': -112.2, 'lon_max': -111.55, 'lat_min': 40.3, 'lat_max': 41.1}\n",
    "labsize = 12\n",
    "proj = ccrs.PlateCarree()\n",
    "\n",
    "# Create a figure with two subplots side by side\n",
    "fig, (ax1, ax2) = plt.subplots(1, 2, figsize=(12, 6), subplot_kw={'projection': proj})\n",
    "\n",
    "# Plot the first map\n",
    "ax1.set_extent([map_extent['lon_min'], map_extent['lon_max'], map_extent['lat_min'], map_extent['lat_max']], crs=proj)\n",
    "diff_plot1 = afternoon_diff_2020['emiss'].plot(ax=ax1, transform=proj, cmap='coolwarm', vmin=-10, vmax=10, alpha=0.8)\n",
    "request = cimgt.GoogleTiles(style='satellite')\n",
    "scale = 10.0\n",
    "ax1.add_image(request, int(scale))\n",
    "\n",
    "# Plot the second map\n",
    "ax2.set_extent([map_extent['lon_min'], map_extent['lon_max'], map_extent['lat_min'], map_extent['lat_max']], crs=proj)\n",
    "diff_plot2 = afternoon_perc_diff_2020['emiss'].plot(ax=ax2, transform=proj, cmap='Purples_r', vmin=-0.05, vmax=-0.25, alpha=0.8)\n",
    "ax2.add_image(request, int(scale))\n",
    "\n",
    "plt.show()"
   ]
  },
  {
   "cell_type": "markdown",
   "metadata": {},
   "source": [
    "# GRA2PES"
   ]
  },
  {
   "cell_type": "code",
   "execution_count": 2,
   "metadata": {},
   "outputs": [],
   "source": [
    "sector = 'AG'\n",
    "\n",
    "ds_main = xr.open_dataset(f'/uufs/chpc.utah.edu/common/home/lin-group9/agm/inventories/GRA2PES/base_v1.0/202101/satdy/GRA2PESv1.0_{sector}_202101_satdy_00to11Z.nc')\n",
    "ds_extra = xr.open_dataset(f'/uufs/chpc.utah.edu/common/home/lin-group9/agm/inventories/GRA2PES/base_v1.0/methane/202101/satdy/GRA2PESv1.0_{sector}_202101_satdy_00to11Z.nc')"
   ]
  },
  {
   "cell_type": "code",
   "execution_count": null,
   "metadata": {},
   "outputs": [],
   "source": [
    "attrs_equal = ds_main.attrs == ds_extra.attrs\n",
    "dims_equal = ds_main.dims == ds_extra.dims\n",
    "coord_keys_equal = ds_main.coords.keys() == ds_extra.coords.keys()\n",
    "coord_values_equal = all([ds_main.coords[key].equals(ds_extra.coords[key]) for key in ds_main.coords.keys()])\n",
    "extra_vars = set(ds_extra.variables) - set(ds_main.variables)\n",
    "shared_vars = set(ds_main.variables) & set(ds_extra.variables)\n"
   ]
  },
  {
   "cell_type": "code",
   "execution_count": null,
   "metadata": {},
   "outputs": [],
   "source": [
    "ds_main"
   ]
  },
  {
   "cell_type": "code",
   "execution_count": 21,
   "metadata": {},
   "outputs": [],
   "source": [
    "xr.testing.assert_equal(ds_main[shared_vars], ds_extra[shared_vars])"
   ]
  },
  {
   "cell_type": "code",
   "execution_count": null,
   "metadata": {},
   "outputs": [],
   "source": [
    "ds_extra"
   ]
  }
 ],
 "metadata": {
  "kernelspec": {
   "display_name": "atmos_column",
   "language": "python",
   "name": "python3"
  },
  "language_info": {
   "codemirror_mode": {
    "name": "ipython",
    "version": 3
   },
   "file_extension": ".py",
   "mimetype": "text/x-python",
   "name": "python",
   "nbconvert_exporter": "python",
   "pygments_lexer": "ipython3",
   "version": "3.11.2"
  }
 },
 "nbformat": 4,
 "nbformat_minor": 2
}
