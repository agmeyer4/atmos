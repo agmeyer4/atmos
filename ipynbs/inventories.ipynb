{
 "cells": [
  {
   "cell_type": "code",
   "execution_count": null,
   "metadata": {},
   "outputs": [],
   "source": [
    "import os\n",
    "import xarray as xr\n",
    "import numpy as np\n",
    "import pandas as pd\n",
    "import xesmf as xe\n",
    "import sys \n",
    "from plotly import graph_objects as go\n",
    "from plotly.subplots import make_subplots\n",
    "from cartopy.io.img_tiles import OSM\n",
    "import calendar\n",
    "import matplotlib.pyplot as plt\n",
    "import pyproj\n",
    "import datetime\n",
    "import cartopy.crs as ccrs\n",
    "import cartopy.feature as cfeature\n",
    "import cartopy.io.img_tiles as cimgt\n",
    "sys.path.append('/uufs/chpc.utah.edu/common/home/u0890904/LAIR_1/atmos')\n",
    "from inventories.gra2pes import gra2pes_utils , gra2pes_config, gra2pes_regrid\n",
    "from utils import gen_utils, datetime_utils\n",
    "\n",
    "#from lair.air import inventories\n",
    "#from lair.utils.geo import PC, bbox2extent\n",
    "#Autoreload changed local modules\n",
    "%load_ext autoreload\n",
    "%autoreload 2"
   ]
  },
  {
   "cell_type": "code",
   "execution_count": null,
   "metadata": {},
   "outputs": [],
   "source": [
    "def plot_da_on_map(da,**kwargs):\n",
    "    if 'map_extent' in kwargs.keys():\n",
    "        map_extent = kwargs['map_extent']\n",
    "    else:\n",
    "        map_extent = {'lat_min':da.lat.min().values,'lat_max':da.lat.max().values,\n",
    "                      'lon_min':da.lon.min().values,'lon_max':da.lon.max().values}\n",
    "    proj = ccrs.PlateCarree()\n",
    "    fig = plt.figure(figsize=(10,10))\n",
    "    ax = plt.axes(projection = proj)\n",
    "    ax.set_extent([map_extent['lon_min'],map_extent['lon_max'],map_extent['lat_min'],map_extent['lat_max']],crs=proj)\n",
    "\n",
    "    request = cimgt.GoogleTiles(style='street')\n",
    "    scale = 10.0 # prob have to adjust this\n",
    "    ax.add_image(request,int(scale))\n",
    "\n",
    "    da.plot.pcolormesh('lon','lat',ax = ax,cmap = 'viridis',alpha = 0.7)\n",
    "    ax.coastlines()\n",
    "    ax.add_feature(cfeature.BORDERS)\n",
    "    ax.add_feature(cfeature.STATES)\n",
    "    "
   ]
  },
  {
   "cell_type": "markdown",
   "metadata": {},
   "source": [
    "# James LAIR"
   ]
  },
  {
   "cell_type": "code",
   "execution_count": null,
   "metadata": {},
   "outputs": [],
   "source": [
    "# SLV CH4 Point Sources\n",
    "\n",
    "from shapely.geometry import Point\n",
    "\n",
    "from lair.utils.geo import PC\n",
    "\n",
    "\n",
    "locations = {  # Satellite imagery center point\n",
    "    'landfill': {\n",
    "        'Salt Lake':    Point(-112.043, 40.746),\n",
    "        'Trans-Jordan': Point(-112.055, 40.558),\n",
    "        'Bountiful':    Point(-111.917, 40.911)},\n",
    "    'refinery': {  # EPA 2011 ICR mean location by facility name\n",
    "        'Chevron':        Point(-111.924, 40.825),\n",
    "        'Big West Oil':   Point(-111.920, 40.838),\n",
    "        'Marathon':       Point(-111.909, 40.794),\n",
    "        'Holly Refining': Point(-111.904, 40.887),\n",
    "        'Silver Eagle':   Point(-111.910, 40.868)},\n",
    "    'wastewater': {\n",
    "        'Magna Water & Sewer District':            Point(-112.074, 40.728),\n",
    "        'Central Valley Water Reclamation':        Point(-111.900, 40.682),\n",
    "        'Jordan Basin Water Reclamation Facility': Point(-111.919, 40.504),\n",
    "        'SLC Water Reclamation Facility':          Point(-111.931, 40.813),\n",
    "        'So. Valley Water Reclamation':            Point(-111.924, 40.615),\n",
    "        'South Davis Sewer District-South Plant':  Point(-111.942, 40.842),\n",
    "        'South Davis Sewer District-North Plant':  Point(-111.933, 40.903),\n",
    "        'Central Davis Co Sewer':                  Point(-111.945, 41.001)}\n",
    "}\n",
    "\n",
    "markers = {\n",
    "    'landfill': 's',\n",
    "    'refinery': '^',\n",
    "    'wastewater': 'o'\n",
    "}\n",
    "\n",
    "def plot_point_sources(kind, ax):\n",
    "    for source, point in locations[kind].items():\n",
    "        ax.scatter(point.x, point.y, transform=PC,\n",
    "                   label=source, c='black',\n",
    "                   marker=markers[kind])\n",
    "\n",
    "    return ax"
   ]
  },
  {
   "cell_type": "code",
   "execution_count": null,
   "metadata": {},
   "outputs": [],
   "source": [
    "# Load inventories\n",
    "ch4_inventories = {\n",
    "    'EDGARv8':   inventories.EDGARv8('CH4'),\n",
    "    'EPAv1':     inventories.EPAv1(),\n",
    "    'EPAv2':     inventories.EPAv2(),\n",
    "    'GFEIv2':    inventories.GFEIv2(),\n",
    "    'WetCHARTs': inventories.WetCHARTs(),\n",
    "}"
   ]
  },
  {
   "cell_type": "code",
   "execution_count": null,
   "metadata": {},
   "outputs": [],
   "source": [
    "SLV_bounds = (-112.1, 40.5,\n",
    "              -111.8, 41.0)\n",
    "\n",
    "# Clip to SLV bounds and get extent\n",
    "clip_bounds = (SLV_bounds[0] - 0.1, SLV_bounds[1] - 0.1,\n",
    "               SLV_bounds[2] + 0.1, SLV_bounds[3] + 0.1)\n",
    "ch4_inventories = {name: inventory.clip(clip_bounds)\n",
    "                   for name, inventory in ch4_inventories.items()}\n",
    "extent = bbox2extent(SLV_bounds)"
   ]
  },
  {
   "cell_type": "code",
   "execution_count": null,
   "metadata": {},
   "outputs": [],
   "source": [
    "# Determine vmax for colorbar\n",
    "vmax = float(max(inventory.total_emissions.max()\n",
    "                 for inventory in ch4_inventories.values()))"
   ]
  },
  {
   "cell_type": "code",
   "execution_count": null,
   "metadata": {},
   "outputs": [],
   "source": [
    "# Get background tiles\n",
    "tiler = OSM()\n",
    "tiler_zoom = 9"
   ]
  },
  {
   "cell_type": "code",
   "execution_count": null,
   "metadata": {},
   "outputs": [],
   "source": [
    "# Figure options\n",
    "cmap = 'Reds'\n",
    "alpha = 0.75"
   ]
  },
  {
   "cell_type": "code",
   "execution_count": null,
   "metadata": {},
   "outputs": [],
   "source": [
    "# Plot\n",
    "fig, axes = plt.subplots(ncols=len(ch4_inventories), sharey=True,\n",
    "                         figsize=(15, 5),\n",
    "                         subplot_kw={'projection': tiler.crs})\n",
    "\n",
    "i = 1\n",
    "for ax, (name, inventory) in zip(axes.flatten(), ch4_inventories.items()):\n",
    "    ax.set_extent(extent, crs=PC)\n",
    "    ax.add_image(tiler, tiler_zoom)\n",
    "\n",
    "    # Add colorbar\n",
    "    if i == len(ch4_inventories):\n",
    "        add_colorbar = True\n",
    "        fig.subplots_adjust(right=0.8)\n",
    "        cbar_ax = fig.add_axes([0.825, axes[0].get_position().y0,\n",
    "                                0.05, axes[0].get_position().height])\n",
    "    else:\n",
    "        add_colorbar = False\n",
    "        cbar_ax = None\n",
    "\n",
    "    # Filter data to last year\n",
    "    year = inventory.data.time.dt.year.values[-1]  # Last year\n",
    "    data = inventory.total_emissions.sel(time=str(year)).mean(dim='time')\n",
    "\n",
    "    # Plot inventory\n",
    "    data.plot(ax=ax, transform=PC,\n",
    "              cmap=cmap, alpha=alpha,\n",
    "              vmin=0, vmax=vmax,\n",
    "              add_colorbar=add_colorbar, cbar_ax=cbar_ax)\n",
    "\n",
    "    # Plot point sources\n",
    "    plot_point_sources('landfill', ax)\n",
    "    plot_point_sources('refinery', ax)\n",
    "    \n",
    "    ax.set(title=f'{name}\\n{year}',\n",
    "           xlabel=None, ylabel=None)\n",
    "\n",
    "    i += 1"
   ]
  },
  {
   "cell_type": "code",
   "execution_count": null,
   "metadata": {},
   "outputs": [],
   "source": [
    "\n",
    "import matplotlib.pyplot as plt\n",
    "from lair.air import inventories\n",
    "\n",
    "plt.figure()\n",
    "i = inventories.EPAv2()\n",
    "i.clip([-112.2, 40.05, -111.2, 41], crs=4326)\n",
    "data = i.total_emissions.mean('time')\n",
    "integrated = i.integrate().isel(time=-1)\n",
    "data.plot()\n",
    "print(f'Original Dimensions: lat={data.lat.size}, lon={data.lon.size}')\n",
    "print(f'Original Total = {float(integrated)}')\n",
    "\n",
    "\n",
    "plt.figure()\n",
    "i.resample(0.2)\n",
    "resampled = i.total_emissions.mean('time')\n",
    "integrated = i.integrate().isel(time=-1)\n",
    "resampled.plot()\n",
    "print(f'Resampled Dimensions: lat={resampled.lat.size}, lon={resampled.lon.size}')\n",
    "print(f'Resampled Total = {float(integrated)}')"
   ]
  },
  {
   "cell_type": "markdown",
   "metadata": {},
   "source": [
    "# Derek Vulcan"
   ]
  },
  {
   "cell_type": "code",
   "execution_count": null,
   "metadata": {},
   "outputs": [],
   "source": [
    "def load_convert_times(nc_path,lat_bounds,lon_bounds):\n",
    "    ds = xr.open_dataset(nc_path,decode_times = False)\n",
    "    ds['time'] = pd.to_datetime(ds['time'].values,unit = 's')\n",
    "    #ds = slice_latlon(ds, lat_bounds, lon_bounds)\n",
    "    return ds\n",
    "    \n",
    "def slice_latlon(ds, lat_bounds, lon_bounds):\n",
    "    return ds.sel(lat = slice(*lat_bounds), lon = slice(*lon_bounds))"
   ]
  },
  {
   "cell_type": "markdown",
   "metadata": {},
   "source": [
    "## First try with stuff in \"scripts\" folder"
   ]
  },
  {
   "cell_type": "code",
   "execution_count": null,
   "metadata": {},
   "outputs": [],
   "source": [
    "prior_2019 = load_convert_times('/uufs/chpc.utah.edu/common/home/lin-group9/agm/inventories/Mallia_SLC/scripts/prior_emiss_2019.nc')\n",
    "posterior_2019 = load_convert_times('/uufs/chpc.utah.edu/common/home/lin-group9/agm/inventories/Mallia_SLC/scripts/post_emiss_2019.nc')\n",
    "prior_2020 = load_convert_times('/uufs/chpc.utah.edu/common/home/lin-group9/agm/inventories/Mallia_SLC/scripts/prior_emiss_2020.nc')\n",
    "posterior_2020 = load_convert_times('/uufs/chpc.utah.edu/common/home/lin-group9/agm/inventories/Mallia_SLC/scripts/post_emiss_2020.nc')"
   ]
  },
  {
   "cell_type": "code",
   "execution_count": null,
   "metadata": {},
   "outputs": [],
   "source": [
    "prior_2019_timedf = prior_2019['emiss'].sum(dim = ['lat','lon']).to_dataframe().rename(columns = {'emiss':'prior_2019'})\n",
    "posterior_2019_timedf = posterior_2019['emiss'].sum(dim = ['lat','lon']).to_dataframe().rename(columns = {'emiss':'posterior_2019'})\n",
    "timedf_2019 = pd.concat([prior_2019_timedf,posterior_2019_timedf],axis = 1)\n",
    "\n",
    "prior_2020_timedf = prior_2020['emiss'].sum(dim = ['lat','lon']).to_dataframe().rename(columns = {'emiss':'prior_2020'})\n",
    "posterior_2020_timedf = posterior_2020['emiss'].sum(dim = ['lat','lon']).to_dataframe().rename(columns = {'emiss':'posterior_2020'})\n",
    "timedf_2020 = pd.concat([prior_2020_timedf,posterior_2020_timedf],axis = 1)"
   ]
  },
  {
   "cell_type": "code",
   "execution_count": null,
   "metadata": {},
   "outputs": [],
   "source": [
    "# Create subplots with shared y-axes\n",
    "fig = make_subplots(rows=1, cols=2, shared_yaxes=True, horizontal_spacing=0.05)\n",
    "\n",
    "# Add traces for 2019\n",
    "fig.add_trace(go.Scatter(\n",
    "    x=timedf_2019.index,\n",
    "    y=timedf_2019['prior_2019'],\n",
    "    mode='lines',\n",
    "    name='Prior 2019'\n",
    "), row=1, col=1)\n",
    "\n",
    "fig.add_trace(go.Scatter(\n",
    "    x=timedf_2019.index,\n",
    "    y=timedf_2019['posterior_2019'],\n",
    "    mode='lines',\n",
    "    name='Posterior 2019'\n",
    "), row=1, col=1)\n",
    "\n",
    "# Add traces for 2020\n",
    "fig.add_trace(go.Scatter(\n",
    "    x=timedf_2020.index,\n",
    "    y=timedf_2020['prior_2020'],\n",
    "    mode='lines',\n",
    "    name='Prior 2020'\n",
    "), row=1, col=2)\n",
    "\n",
    "fig.add_trace(go.Scatter(\n",
    "    x=timedf_2020.index,\n",
    "    y=timedf_2020['posterior_2020'],\n",
    "    mode='lines',\n",
    "    name='Posterior 2020'\n",
    "), row=1, col=2)\n",
    "\n",
    "# Define common tick values and labels\n",
    "common_ticks = ['2019-03-01', '2019-04-01','2019-05-01', '2020-03-01','2020-04-01', '2020-05-01']\n",
    "common_labels = ['Mar 2019', 'Apr 2019', 'May 2019', 'Mar 2020', 'Apr 2020', 'May 2020']\n",
    "\n",
    "# Update layout\n",
    "fig.update_layout(\n",
    "    yaxis_title='Sum of Gridcell Emissions (umol/s)/gca',\n",
    "    xaxis=dict(\n",
    "        title='2019',\n",
    "        tickvals=common_ticks[:3],\n",
    "        ticktext=common_labels[:3],\n",
    "        showgrid=True\n",
    "    ),\n",
    "    xaxis2=dict(\n",
    "        title='2020',\n",
    "        tickvals=common_ticks[3:],\n",
    "        ticktext=common_labels[3:],\n",
    "        showgrid=True\n",
    "    )\n",
    ")\n",
    "\n",
    "fig.show()"
   ]
  },
  {
   "cell_type": "markdown",
   "metadata": {},
   "source": [
    "### 2019"
   ]
  },
  {
   "cell_type": "code",
   "execution_count": null,
   "metadata": {},
   "outputs": [],
   "source": [
    "diff_2019 = posterior_2019-prior_2019\n",
    "afternoon_diff_2019 = diff_2019.sel(  time = (diff_2019['time'].dt.hour.isin([18,19,20,21,22,23,0])) & \n",
    "                                        (diff_2019['time'].dt.month.isin([3,4]))  \n",
    "                                    ).mean('time')\n",
    "afternoon_diff_2019['emiss'].attrs['units'] = 'emission_diff'\n",
    "\n",
    "perc_diff_2019 = (posterior_2019-prior_2019)/prior_2019\n",
    "afternoon_perc_diff_2019 = perc_diff_2019.sel(  time = (diff_2019['time'].dt.hour.isin([18,19,20,21,22,23,0])) & \n",
    "                                        (diff_2019['time'].dt.month.isin([3,4]))  \n",
    "                                    ).mean('time')\n",
    "afternoon_perc_diff_2019['emiss'].attrs['units'] = 'emission_perc_diff'\n"
   ]
  },
  {
   "cell_type": "code",
   "execution_count": null,
   "metadata": {},
   "outputs": [],
   "source": [
    "map_extent={'lon_min':-112.2,\n",
    "        'lon_max':-111.55,\n",
    "        'lat_min':40.3,\n",
    "        'lat_max':41.1} \n",
    "\n",
    "labsize = 12\n",
    "proj = ccrs.PlateCarree()\n",
    "fig = plt.figure(figsize=(6,6))\n",
    "ax = plt.axes(projection = proj)\n",
    "ax.set_extent([map_extent['lon_min'],map_extent['lon_max'],map_extent['lat_min'],map_extent['lat_max']],crs=proj)\n",
    "\n",
    "diff_plot = afternoon_diff_2019['emiss'].plot(ax=ax,transform=proj,cmap = 'coolwarm',vmin=-20,vmax = 20,alpha = 0.8)\n",
    "\n",
    "request = cimgt.GoogleTiles(style='street')\n",
    "scale = 10.0 # prob have to adjust this\n",
    "ax.add_image(request,int(scale))\n",
    "\n",
    "plt.show()"
   ]
  },
  {
   "cell_type": "code",
   "execution_count": null,
   "metadata": {},
   "outputs": [],
   "source": [
    "map_extent={'lon_min':-112.2,\n",
    "        'lon_max':-111.55,\n",
    "        'lat_min':40.3,\n",
    "        'lat_max':41.1} \n",
    "\n",
    "labsize = 12\n",
    "proj = ccrs.PlateCarree()\n",
    "fig = plt.figure(figsize=(6,6))\n",
    "ax = plt.axes(projection = proj)\n",
    "ax.set_extent([map_extent['lon_min'],map_extent['lon_max'],map_extent['lat_min'],map_extent['lat_max']],crs=proj)\n",
    "\n",
    "diff_plot = afternoon_perc_diff_2019['emiss'].plot(ax=ax,transform=proj,cmap = 'Purples_r',vmin=-0.1,vmax = -0.4,alpha = 0.8)\n",
    "\n",
    "request = cimgt.GoogleTiles(style='street')\n",
    "scale = 10.0 # prob have to adjust this\n",
    "ax.add_image(request,int(scale))\n",
    "\n",
    "plt.show()"
   ]
  },
  {
   "cell_type": "markdown",
   "metadata": {},
   "source": [
    "## Second try with stuff in \"inversion_inputs\" folder"
   ]
  },
  {
   "cell_type": "code",
   "execution_count": null,
   "metadata": {},
   "outputs": [],
   "source": [
    "prior_2019 = load_convert_times('/uufs/chpc.utah.edu/common/home/lin-group9/agm/inventories/Mallia_SLC/inversion_inputs/prior_emiss_2019.nc')\n",
    "prior_2020 = load_convert_times('/uufs/chpc.utah.edu/common/home/lin-group9/agm/inventories/Mallia_SLC/inversion_inputs/prior_emiss_2020.nc')\n"
   ]
  },
  {
   "cell_type": "code",
   "execution_count": null,
   "metadata": {},
   "outputs": [],
   "source": [
    "prior_2019_timedf = prior_2019['emiss'].sum(dim = ['lat','lon']).to_dataframe().rename(columns = {'emiss':'prior_2019'})\n",
    "#posterior_2019_timedf = posterior_2019['emiss'].sum(dim = ['lat','lon']).to_dataframe().rename(columns = {'emiss':'posterior_2019'})\n",
    "timedf_2019 =  pd.concat([prior_2019_timedf,posterior_2019_timedf],axis = 1)\n",
    "\n",
    "prior_2020_timedf = prior_2020['emiss'].sum(dim = ['lat','lon']).to_dataframe().rename(columns = {'emiss':'prior_2020'})\n",
    "#posterior_2020_timedf = posterior_2020['emiss'].sum(dim = ['lat','lon']).to_dataframe().rename(columns = {'emiss':'posterior_2020'})\n",
    "timedf_2020 = pd.concat([prior_2020_timedf,posterior_2020_timedf],axis = 1)"
   ]
  },
  {
   "cell_type": "code",
   "execution_count": null,
   "metadata": {},
   "outputs": [],
   "source": [
    "# Create subplots with shared y-axes\n",
    "fig = make_subplots(rows=1, cols=2, shared_yaxes=True, horizontal_spacing=0.05)\n",
    "\n",
    "# Add traces for 2019\n",
    "fig.add_trace(go.Scatter(\n",
    "    x=timedf_2019.index,\n",
    "    y=timedf_2019['prior_2019'],\n",
    "    mode='lines',\n",
    "    name='Prior 2019'\n",
    "), row=1, col=1)\n",
    "\n",
    "fig.add_trace(go.Scatter(\n",
    "    x=timedf_2019.index,\n",
    "    y=timedf_2019['posterior_2019'],\n",
    "    mode='lines',\n",
    "    name='Posterior 2019'\n",
    "), row=1, col=1)\n",
    "\n",
    "# Add traces for 2020\n",
    "fig.add_trace(go.Scatter(\n",
    "    x=timedf_2020.index,\n",
    "    y=timedf_2020['prior_2020'],\n",
    "    mode='lines',\n",
    "    name='Prior 2020'\n",
    "), row=1, col=2)\n",
    "\n",
    "# fig.add_trace(go.Scatter(\n",
    "#     x=timedf_2020.index,\n",
    "#     y=timedf_2020['posterior_2020'],\n",
    "#     mode='lines',\n",
    "#     name='Posterior 2020'\n",
    "# ), row=1, col=2)\n",
    "\n",
    "# Define common tick values and labels\n",
    "common_ticks = ['2019-03-01', '2019-04-01','2019-05-01', '2020-03-01','2020-04-01', '2020-05-01']\n",
    "common_labels = ['Mar 2019', 'Apr 2019', 'May 2019', 'Mar 2020', 'Apr 2020', 'May 2020']\n",
    "\n",
    "# Update layout\n",
    "fig.update_layout(\n",
    "    yaxis_title='Sum of Gridcell Emissions (umol/s)/gca',\n",
    "    xaxis=dict(\n",
    "        title='2019',\n",
    "        tickvals=common_ticks[:3],\n",
    "        ticktext=common_labels[:3],\n",
    "        showgrid=True\n",
    "    ),\n",
    "    xaxis2=dict(\n",
    "        title='2020',\n",
    "        tickvals=common_ticks[3:],\n",
    "        ticktext=common_labels[3:],\n",
    "        showgrid=True\n",
    "    )\n",
    ")\n",
    "\n",
    "fig.show()"
   ]
  },
  {
   "cell_type": "markdown",
   "metadata": {},
   "source": [
    "## Files taken from \"emiss_inventories/scaled_vulcan\" folder"
   ]
  },
  {
   "cell_type": "code",
   "execution_count": null,
   "metadata": {},
   "outputs": [],
   "source": [
    "lat_bounds = [40.4, 41]\n",
    "lon_bounds = [-112.15, -111.73] \n",
    "base_dir = '/uufs/chpc.utah.edu/common/home/lin-group9/agm/inventories/Mallia_SLC/emiss_inventories_scaled_vulcan/'\n",
    "\n",
    "prior_2019_fname = 'vulcan_gsv_emiss_2019_V1.nc'\n",
    "prior_2019 = load_convert_times(os.path.join(base_dir,prior_2019_fname),lat_bounds,lon_bounds)\n",
    "\n",
    "posterior_2019_fname = 'vulcan_gsv_emiss_2019_inv-updated_noDT.nc'\n",
    "posterior_2019 = load_convert_times(os.path.join(base_dir,posterior_2019_fname),lat_bounds,lon_bounds)\n",
    "\n",
    "prior_2020_fname = 'vulcan_gsv_emiss_2020_inv-updated_noDT.nc'\n",
    "prior_2020 = load_convert_times(os.path.join(base_dir,prior_2020_fname),lat_bounds,lon_bounds)\n",
    "\n",
    "posterior_2020_fname = 'vulcan_gsv_emiss_2020_covid-adjusted.nc'\n",
    "posterior_2020 = load_convert_times(os.path.join(base_dir,posterior_2020_fname),lat_bounds,lon_bounds)"
   ]
  },
  {
   "cell_type": "code",
   "execution_count": null,
   "metadata": {},
   "outputs": [],
   "source": [
    "posterior_2020"
   ]
  },
  {
   "cell_type": "code",
   "execution_count": null,
   "metadata": {},
   "outputs": [],
   "source": [
    "posterior_2019 = posterior_2019.sel(time=slice('2019-03-01','2019-04-30'))\n",
    "posterior_2019['emiss'].attrs['long_name'] = 'Posterior 2019'\n",
    "\n",
    "prior_2020 = prior_2020.sel(time=slice('2020-03-15','2020-04-30'))\n",
    "prior_2020['emiss'].attrs['long_name'] = 'Prior 2020'\n",
    "\n",
    "posterior_2020 = posterior_2020.sel(time=slice('2020-03-15','2020-04-30'))\n",
    "posterior_2020['emiss'].attrs['long_name'] = 'Posterior 2020'"
   ]
  },
  {
   "cell_type": "code",
   "execution_count": null,
   "metadata": {},
   "outputs": [],
   "source": [
    "prior_2019.to_netcdf('/uufs/chpc.utah.edu/common/home/u0890904/LAIR_1/Data/NC/for_haley/prior_2019.nc')\n",
    "posterior_2019.to_netcdf('/uufs/chpc.utah.edu/common/home/u0890904/LAIR_1/Data/NC/for_haley/posterior_2019.nc')\n",
    "prior_2020.to_netcdf('/uufs/chpc.utah.edu/common/home/u0890904/LAIR_1/Data/NC/for_haley/prior_2020.nc')\n",
    "posterior_2020.to_netcdf('/uufs/chpc.utah.edu/common/home/u0890904/LAIR_1/Data/NC/for_haley/posterior_2020.nc')"
   ]
  },
  {
   "cell_type": "code",
   "execution_count": null,
   "metadata": {},
   "outputs": [],
   "source": [
    "prior_2019_timedf = prior_2019['emiss'].sum(dim = ['lat','lon']).to_dataframe().rename(columns = {'emiss':'prior_2019'})\n",
    "posterior_2019_timedf = posterior_2019['emiss'].sum(dim = ['lat','lon']).to_dataframe().rename(columns = {'emiss':'posterior_2019'})\n",
    "timedf_2019 = pd.concat([prior_2019_timedf,posterior_2019_timedf],axis = 1)\n",
    "\n",
    "prior_2020_timedf = prior_2020['emiss'].sum(dim = ['lat','lon']).to_dataframe().rename(columns = {'emiss':'prior_2020'})\n",
    "posterior_2020_timedf = posterior_2020['emiss'].sum(dim = ['lat','lon']).to_dataframe().rename(columns = {'emiss':'posterior_2020'})\n",
    "timedf_2020 = pd.concat([prior_2020_timedf,posterior_2020_timedf],axis = 1)\n",
    "\n",
    "spring_timedf_2019 = timedf_2019.loc[(timedf_2019.index >= '2019-03-01') & (timedf_2019.index <= '2019-04-30')]\n",
    "spring_timedf_2020 = timedf_2020.loc[(timedf_2020.index >= '2020-03-15') & (timedf_2020.index <= '2020-04-30')]"
   ]
  },
  {
   "cell_type": "markdown",
   "metadata": {},
   "source": [
    "#### Full  timeseries"
   ]
  },
  {
   "cell_type": "code",
   "execution_count": null,
   "metadata": {},
   "outputs": [],
   "source": [
    "# Create subplots with shared y-axes\n",
    "fig = make_subplots(rows=1, cols=2, shared_yaxes=True, horizontal_spacing=0.05)\n",
    "\n",
    "# Add traces for 2019\n",
    "fig.add_trace(go.Scatter(\n",
    "    x=timedf_2019.index,\n",
    "    y=timedf_2019['prior_2019'],\n",
    "    mode='lines',\n",
    "    name='Prior 2019'\n",
    "), row=1, col=1)\n",
    "\n",
    "fig.add_trace(go.Scatter(\n",
    "    x=timedf_2019.index,\n",
    "    y=timedf_2019['posterior_2019'],\n",
    "    mode='lines',\n",
    "    name='Posterior 2019'\n",
    "), row=1, col=1)\n",
    "\n",
    "# Add traces for 2020\n",
    "fig.add_trace(go.Scatter(\n",
    "    x=timedf_2020.index,\n",
    "    y=timedf_2020['prior_2020'],\n",
    "    mode='lines',\n",
    "    name='Prior 2020'\n",
    "), row=1, col=2)\n",
    "\n",
    "fig.add_trace(go.Scatter(\n",
    "    x=timedf_2020.index,\n",
    "    y=timedf_2020['posterior_2020'],\n",
    "    mode='lines',\n",
    "    name='Posterior 2020'\n",
    "), row=1, col=2)\n",
    "\n",
    "# Define common tick values and labels\n",
    "common_ticks = pd.date_range(start='2019-01-01', end='2020-12-31', freq='MS').strftime('%Y-%m-%d').tolist()\n",
    "common_labels = pd.date_range(start='2019-01-01', end='2020-12-31', freq='MS').strftime('%b %Y').tolist()\n",
    "\n",
    "# Update layout\n",
    "fig.update_layout(\n",
    "    yaxis_title='Sum of Gridcell Emissions (umol/s)/gca',\n",
    "    xaxis=dict(\n",
    "        title='2019',\n",
    "        tickvals=common_ticks[:12],\n",
    "        ticktext=common_labels[:12],\n",
    "        showgrid=True\n",
    "    ),\n",
    "    xaxis2=dict(\n",
    "        title='2020',\n",
    "        tickvals=common_ticks[12:],\n",
    "        ticktext=common_labels[12:],\n",
    "        showgrid=True\n",
    "    )\n",
    ")\n",
    "\n",
    "fig.show()"
   ]
  },
  {
   "cell_type": "markdown",
   "metadata": {},
   "source": [
    "#### Spring timeseries"
   ]
  },
  {
   "cell_type": "code",
   "execution_count": null,
   "metadata": {},
   "outputs": [],
   "source": [
    "# Create subplots with shared y-axes\n",
    "fig = make_subplots(rows=1, cols=2, shared_yaxes=True, horizontal_spacing=0.05)\n",
    "\n",
    "# Add traces for 2019\n",
    "fig.add_trace(go.Scatter(\n",
    "    x=spring_timedf_2019.index,\n",
    "    y=spring_timedf_2019['prior_2019'],\n",
    "    mode='lines',\n",
    "    name='Prior 2019'\n",
    "), row=1, col=1)\n",
    "\n",
    "fig.add_trace(go.Scatter(\n",
    "    x=spring_timedf_2019.index,\n",
    "    y=spring_timedf_2019['posterior_2019'],\n",
    "    mode='lines',\n",
    "    name='Posterior 2019'\n",
    "), row=1, col=1)\n",
    "\n",
    "# Add traces for 2020\n",
    "fig.add_trace(go.Scatter(\n",
    "    x=spring_timedf_2020.index,\n",
    "    y=spring_timedf_2020['prior_2020'],\n",
    "    mode='lines',\n",
    "    name='Prior 2020'\n",
    "), row=1, col=2)\n",
    "\n",
    "fig.add_trace(go.Scatter(\n",
    "    x=spring_timedf_2020.index,\n",
    "    y=spring_timedf_2020['posterior_2020'],\n",
    "    mode='lines',\n",
    "    name='Posterior 2020'\n",
    "), row=1, col=2)\n",
    "\n",
    "# Define common tick values and labels\n",
    "common_ticks = pd.date_range(start='2019-01-01', end='2020-12-31', freq='MS').strftime('%Y-%m-%d').tolist()\n",
    "common_labels = pd.date_range(start='2019-01-01', end='2020-12-31', freq='MS').strftime('%b %Y').tolist()\n",
    "\n",
    "# Update layout\n",
    "fig.update_layout(\n",
    "    yaxis_title='Sum of Gridcell Emissions (umol/s)/gca',)\n",
    "#     xaxis=dict(\n",
    "#         title='2019',\n",
    "#         tickvals=common_ticks[:12],\n",
    "#         ticktext=common_labels[:12],\n",
    "#         showgrid=True\n",
    "#     ),\n",
    "#     xaxis2=dict(\n",
    "#         title='2020',\n",
    "#         tickvals=common_ticks[12:],\n",
    "#         ticktext=common_labels[12:],\n",
    "#         showgrid=True\n",
    "#     )\n",
    "# )\n",
    "\n",
    "fig.show()"
   ]
  },
  {
   "cell_type": "code",
   "execution_count": null,
   "metadata": {},
   "outputs": [],
   "source": [
    "posterior_2019_ave = posterior_2019.mean('time')\n",
    "map_extent = {'lon_min': -112.2, 'lon_max': -111.55, 'lat_min': 40.3, 'lat_max': 41.1}\n",
    "labsize = 12\n",
    "proj = ccrs.PlateCarree()\n",
    "\n",
    "# Create a figure with two subplots side by side\n",
    "fig, ax1 = plt.subplots(1, 1, figsize=(6, 6), subplot_kw={'projection': proj})\n",
    "\n",
    "# Plot the first map\n",
    "ax1.set_extent([map_extent['lon_min'], map_extent['lon_max'], map_extent['lat_min'], map_extent['lat_max']], crs=proj)\n",
    "diff_plot1 = posterior_2019_ave['emiss'].plot(ax=ax1, transform=proj, cmap='Reds', vmax = 100,alpha=0.8)\n",
    "request = cimgt.GoogleTiles(style='street')\n",
    "scale = 10.0\n",
    "ax1.add_image(request, int(scale))\n",
    "\n",
    "plt.show()"
   ]
  },
  {
   "cell_type": "markdown",
   "metadata": {},
   "source": [
    "### 2019 Differences"
   ]
  },
  {
   "cell_type": "code",
   "execution_count": null,
   "metadata": {},
   "outputs": [],
   "source": [
    "diff_2019 = posterior_2019-prior_2019\n",
    "afternoon_diff_2019 = diff_2019.sel(  time = (diff_2019['time'].dt.hour.isin([18,19,20,21,22,23,0])) & \n",
    "                                        (diff_2019['time'].dt.month.isin([3,4]))  \n",
    "                                    ).mean('time')\n",
    "afternoon_diff_2019['emiss'].attrs['units'] = 'emission_diff'\n",
    "\n",
    "perc_diff_2019 = (posterior_2019-prior_2019)/prior_2019\n",
    "afternoon_perc_diff_2019 = perc_diff_2019.sel(  time = (perc_diff_2019['time'].dt.hour.isin([18,19,20,21,22,23,0])) & \n",
    "                                        (perc_diff_2019['time'].dt.month.isin([3,4]))  \n",
    "                                    ).mean('time')\n",
    "afternoon_perc_diff_2019['emiss'].attrs['units'] = 'emission_perc_diff'\n"
   ]
  },
  {
   "cell_type": "code",
   "execution_count": null,
   "metadata": {},
   "outputs": [],
   "source": [
    "map_extent = {'lon_min': -112.2, 'lon_max': -111.55, 'lat_min': 40.3, 'lat_max': 41.1}\n",
    "labsize = 12\n",
    "proj = ccrs.PlateCarree()\n",
    "\n",
    "# Create a figure with two subplots side by side\n",
    "fig, (ax1, ax2) = plt.subplots(1, 2, figsize=(12, 6), subplot_kw={'projection': proj})\n",
    "\n",
    "# Plot the first map\n",
    "ax1.set_extent([map_extent['lon_min'], map_extent['lon_max'], map_extent['lat_min'], map_extent['lat_max']], crs=proj)\n",
    "diff_plot1 = afternoon_diff_2019['emiss'].plot(ax=ax1, transform=proj, cmap='coolwarm', vmin=-20, vmax=20, alpha=0.8)\n",
    "request = cimgt.GoogleTiles(style='street')\n",
    "scale = 10.0\n",
    "ax1.add_image(request, int(scale))\n",
    "\n",
    "# Plot the second map\n",
    "ax2.set_extent([map_extent['lon_min'], map_extent['lon_max'], map_extent['lat_min'], map_extent['lat_max']], crs=proj)\n",
    "diff_plot2 = afternoon_perc_diff_2019['emiss'].plot(ax=ax2, transform=proj, cmap='Purples_r', vmin=-0.1, vmax=-0.4, alpha=0.8)\n",
    "ax2.add_image(request, int(scale))\n",
    "\n",
    "plt.show()"
   ]
  },
  {
   "cell_type": "markdown",
   "metadata": {},
   "source": [
    "### 2020"
   ]
  },
  {
   "cell_type": "code",
   "execution_count": null,
   "metadata": {},
   "outputs": [],
   "source": [
    "diff_2020 = posterior_2020-prior_2020\n",
    "afternoon_diff_2020 = diff_2020.sel(  time = (diff_2020['time'].dt.hour.isin([18,19,20,21,22,23,0])) & \n",
    "                                        (diff_2020['time'].dt.month.isin([3,4]))  \n",
    "                                    ).mean('time')\n",
    "afternoon_diff_2020['emiss'].attrs['units'] = 'emission_diff'\n",
    "\n",
    "perc_diff_2020 = (posterior_2020-prior_2020)/prior_2020\n",
    "afternoon_perc_diff_2020= perc_diff_2020.sel(  time = (perc_diff_2020['time'].dt.hour.isin([18,19,20,21,22,23,0])) & \n",
    "                                        (perc_diff_2020['time'].dt.month.isin([3,4]))  \n",
    "                                    ).mean('time')\n",
    "afternoon_perc_diff_2020['emiss'].attrs['units'] = 'emission_perc_diff'\n"
   ]
  },
  {
   "cell_type": "code",
   "execution_count": null,
   "metadata": {},
   "outputs": [],
   "source": [
    "map_extent = {'lon_min': -112.2, 'lon_max': -111.55, 'lat_min': 40.3, 'lat_max': 41.1}\n",
    "labsize = 12\n",
    "proj = ccrs.PlateCarree()\n",
    "\n",
    "# Create a figure with two subplots side by side\n",
    "fig, (ax1, ax2) = plt.subplots(1, 2, figsize=(12, 6), subplot_kw={'projection': proj})\n",
    "\n",
    "# Plot the first map\n",
    "ax1.set_extent([map_extent['lon_min'], map_extent['lon_max'], map_extent['lat_min'], map_extent['lat_max']], crs=proj)\n",
    "diff_plot1 = afternoon_diff_2020['emiss'].plot(ax=ax1, transform=proj, cmap='coolwarm', vmin=-10, vmax=10, alpha=0.8)\n",
    "request = cimgt.GoogleTiles(style='satellite')\n",
    "scale = 10.0\n",
    "ax1.add_image(request, int(scale))\n",
    "\n",
    "# Plot the second map\n",
    "ax2.set_extent([map_extent['lon_min'], map_extent['lon_max'], map_extent['lat_min'], map_extent['lat_max']], crs=proj)\n",
    "diff_plot2 = afternoon_perc_diff_2020['emiss'].plot(ax=ax2, transform=proj, cmap='Purples_r', vmin=-0.05, vmax=-0.25, alpha=0.8)\n",
    "ax2.add_image(request, int(scale))\n",
    "\n",
    "plt.show()"
   ]
  },
  {
   "cell_type": "markdown",
   "metadata": {},
   "source": [
    "# GRA2PES"
   ]
  },
  {
   "cell_type": "markdown",
   "metadata": {},
   "source": [
    "## Base"
   ]
  },
  {
   "cell_type": "code",
   "execution_count": null,
   "metadata": {},
   "outputs": [],
   "source": [
    "config = gra2pes_config.Gra2pesConfig()\n",
    "extra_ids = 'methane'\n",
    "specs = ['CO2','CO','HC01']#,'HC02','HC14','NH3','NOX','SO2']\n",
    "\n",
    "BGH = gra2pes_utils.BaseGra2pesHandler(config,specs = specs, extra_ids = extra_ids)\n",
    "\n",
    "sector = 'AG'\n",
    "year = 2021\n",
    "month = 1\n",
    "day_type = 'weekdy'\n",
    "base_ds = BGH.load_fmt_fullday(sector, year, month, day_type, check_extra=False)\n",
    "base_ds"
   ]
  },
  {
   "cell_type": "markdown",
   "metadata": {},
   "source": [
    "## Regridding"
   ]
  },
  {
   "cell_type": "code",
   "execution_count": null,
   "metadata": {},
   "outputs": [],
   "source": [
    "regrid_config = gra2pes_config.Gra2pesRegridConfig(config)\n",
    "gra2pes_regridder = gra2pes_utils.Gra2pesRegridder(regrid_config)\n",
    "base_ds = gra2pes_regrid.sum_on_dim(base_ds, dim ='zlevel')\n",
    "regridded_ds = gra2pes_regridder.regrid(base_ds)\n",
    "regridded_ds = gra2pes_regrid.slice_extent(regridded_ds,extent={'lon_min': -113, 'lon_max': -111, 'lat_min': 40, 'lat_max': 42})\n",
    "regridded_ds\n"
   ]
  },
  {
   "cell_type": "markdown",
   "metadata": {},
   "source": [
    "## Regridded"
   ]
  },
  {
   "cell_type": "code",
   "execution_count": null,
   "metadata": {},
   "outputs": [],
   "source": [
    "config = gra2pes_config.Gra2pesConfig()\n",
    "regrid_id = '0.025x0.025'\n",
    "dtr = datetime_utils.DateTimeRange('2021-01-01','2021-12-31 23:59',tz = 'UTC')\n",
    "rgh = gra2pes_utils.RegriddedGra2pesHandler(config,regrid_id)\n",
    "#rgh.get_files_inrange(dtr)\n",
    "regridded_ds = rgh.open_ds_inrange(dtr,sectors='all')#,chunks = {'utc_hour':1,'month':1})\n",
    "ds = rgh.rework_ds_dt(regridded_ds)\n",
    "total_ds = ds.sel(sector='total').drop_vars('sector')\n",
    "\n",
    "# example_grid = total_ds[list(total_ds.data_vars)[0]].isel(datetime = 0).drop_vars('datetime')\n",
    "# example_grid.to_netcdf(os.path.join(rgh.regridded_path,'example_grid.nc'))\n",
    "\n",
    "gca = xr.open_dataset(os.path.join(rgh.regridded_path,'example_grid_area.nc'))['cell_area']"
   ]
  },
  {
   "cell_type": "markdown",
   "metadata": {},
   "source": [
    "## Year Santity"
   ]
  },
  {
   "cell_type": "code",
   "execution_count": null,
   "metadata": {},
   "outputs": [],
   "source": [
    "molar_masses = {'CO2':44.01, 'CO':28.01, 'HC01':16.04}\n",
    "\n",
    "slv_extent = {'lon_min':-112.15,\n",
    "                  'lon_max':-111.6,\n",
    "                  'lat_min':40.35,\n",
    "                  'lat_max':41.0} \n",
    "# slv_extent = {'lon_min':-112.25,\n",
    "#                 'lon_max':-111.6,\n",
    "#                 'lat_min':40.3,\n",
    "#                 'lat_max':41.1}\n",
    "\n",
    "slv_ds = total_ds.sel(lat = slice(slv_extent['lat_min'],slv_extent['lat_max']),\n",
    "                      lon = slice(slv_extent['lon_min'],slv_extent['lon_max']))\n",
    "slv_gca = gca.sel(lat = slice(slv_extent['lat_min'],slv_extent['lat_max']),\n",
    "                  lon = slice(slv_extent['lon_min'],slv_extent['lon_max']))"
   ]
  },
  {
   "cell_type": "code",
   "execution_count": null,
   "metadata": {},
   "outputs": [],
   "source": [
    "slv_yrsum = slv_ds.sum(dim='datetime',keep_attrs = True)\n",
    "orig_attrs_dict = {var: slv_ds[var].attrs for var in slv_yrsum.data_vars}\n",
    "for var in slv_yrsum.data_vars:\n",
    "    slv_yrsum[var].attrs['units'] = orig_attrs_dict[var]['units'].replace(' hr^-1','')\n",
    "\n",
    "orig_attrs_dict = {var: slv_yrsum[var].attrs for var in slv_yrsum.data_vars}\n",
    "slv_yrsum = slv_yrsum * 1E-6\n",
    "for var in slv_yrsum.data_vars:\n",
    "    slv_yrsum[var].attrs['units'] = orig_attrs_dict[var]['units'].replace('km^-2','m^-2')\n",
    "\n",
    "orig_attrs_dict = {var: slv_yrsum[var].attrs for var in slv_yrsum.data_vars}\n",
    "for var in slv_yrsum.data_vars:\n",
    "    orig_attrs = orig_attrs_dict[var]\n",
    "    if 'mole' in orig_attrs['units']:\n",
    "        molar_mass = molar_masses[var]\n",
    "        slv_yrsum[var] = slv_yrsum[var] * molar_mass\n",
    "        slv_yrsum[var].attrs['units'] = orig_attrs['units'].replace('mole','g')\n",
    "\n",
    "orig_attrs_dict = {var: slv_yrsum[var].attrs for var in slv_yrsum.data_vars}\n",
    "slv_yrsum = slv_yrsum * 1E-6\n",
    "for var in slv_yrsum.data_vars:\n",
    "    slv_yrsum[var].attrs['units'] = orig_attrs_dict[var]['units'].replace('g','metric_Ton')\n",
    "\n",
    "orig_attrs_dict = {var: slv_yrsum[var].attrs for var in slv_yrsum.data_vars}\n",
    "absolute_yrsum = slv_yrsum * slv_gca\n",
    "for var in slv_yrsum.data_vars:\n",
    "    absolute_yrsum[var].attrs['units'] = orig_attrs_dict[var]['units'].replace('m^-2','gridcell^-1')"
   ]
  },
  {
   "cell_type": "code",
   "execution_count": null,
   "metadata": {},
   "outputs": [],
   "source": [
    "absolute_yrsum_coarse = absolute_yrsum.coarsen(lat = 2, lon = 2, boundary = 'trim').sum()"
   ]
  },
  {
   "cell_type": "code",
   "execution_count": null,
   "metadata": {},
   "outputs": [],
   "source": [
    "map_extent={'lon_min':-112.2,\n",
    "            'lon_max':-111.6,\n",
    "            'lat_min':40.3,\n",
    "            'lat_max':41.1} \n",
    "specs = ['CO2','CO','HC01']\n",
    "for spec in specs:\n",
    "    plot_da = absolute_yrsum_coarse[spec]\n",
    "    print(f\"Sum of {spec} = {float(plot_da.sum()):.2e} metric_Ton\")\n",
    "    plot_da_on_map(plot_da,map_extent=map_extent)\n"
   ]
  },
  {
   "cell_type": "code",
   "execution_count": null,
   "metadata": {},
   "outputs": [],
   "source": [
    "co_co2 = float(absolute_yrsum['CO'].sum() / absolute_yrsum['CO2'].sum() * molar_masses['CO2'] / molar_masses['CO'])\n",
    "ch4_co2 = float(absolute_yrsum['HC01'].sum() / absolute_yrsum['CO2'].sum() * molar_masses['CO2'] / molar_masses['HC01'])\n",
    "print(f\"CO/CO2 = {co_co2*1000:.2f} permil\")\n",
    "print(f\"CH4/CO2 = {ch4_co2*1000:.2f} permil\")"
   ]
  },
  {
   "cell_type": "code",
   "execution_count": null,
   "metadata": {},
   "outputs": [],
   "source": []
  }
 ],
 "metadata": {
  "kernelspec": {
   "display_name": "atmos",
   "language": "python",
   "name": "python3"
  },
  "language_info": {
   "codemirror_mode": {
    "name": "ipython",
    "version": 3
   },
   "file_extension": ".py",
   "mimetype": "text/x-python",
   "name": "python",
   "nbconvert_exporter": "python",
   "pygments_lexer": "ipython3",
   "version": "3.9.20"
  }
 },
 "nbformat": 4,
 "nbformat_minor": 2
}
