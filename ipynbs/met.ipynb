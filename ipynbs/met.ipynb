{
 "cells": [
  {
   "cell_type": "code",
   "execution_count": null,
   "metadata": {},
   "outputs": [],
   "source": [
    "import os \n",
    "import sys\n",
    "import datetime\n",
    "import pandas as pd\n",
    "import plotly.graph_objects as go\n",
    "from plotly.subplots import make_subplots\n",
    "import matplotlib.pyplot as plt\n",
    "sys.path.append(os.path.join(os.getcwd(),'..'))\n",
    "from utils import met_utils, datetime_utils, df_utils\n",
    "\n",
    "#Autoreload changed local modules\n",
    "%load_ext autoreload\n",
    "%autoreload 2"
   ]
  },
  {
   "cell_type": "markdown",
   "metadata": {},
   "source": [
    "# Formatting Data For GGG"
   ]
  },
  {
   "cell_type": "code",
   "execution_count": 11,
   "metadata": {},
   "outputs": [],
   "source": [
    "mh = met_utils.MetHandler()\n",
    "met_type = 'vaisala_tph'\n",
    "data_path = f'/uufs/chpc.utah.edu/common/home/lin-group9/agm/EM27/ua/inst_data/met/raw_collected/{met_type}'\n",
    "dtr = datetime_utils.DateTimeRange('2024-07-20 00:00:00','2024-08-01 00:00:00',tz = 'UTC')\n",
    "df_orig = mh.load_data_in_range(met_type, data_path, dtr)\n",
    "gmh = met_utils.GGGMetHandler()\n",
    "gmh.write_daily_ggg_met_files(df_orig,met_type, '/uufs/chpc.utah.edu/common/home/u0890904/LAIR_1/Data/test',\n",
    "                              overwrite = False)"
   ]
  },
  {
   "cell_type": "markdown",
   "metadata": {},
   "source": [
    "# Loading data from GGG\n"
   ]
  },
  {
   "cell_type": "code",
   "execution_count": null,
   "metadata": {},
   "outputs": [],
   "source": [
    "mh = met_utils.MetHandler()\n",
    "dtr = datetime_utils.DateTimeRange('2024-07-20 00:00:00','2024-09-10 00:00:00',tz = 'UTC')\n",
    "\n",
    "\n",
    "met_type = 'ggg'\n",
    "data_path = '/uufs/chpc.utah.edu/common/home/lin-group9/agm/EM27/ha/inst_data/met/WBB'\n",
    "wbb_ggg_df = mh.load_data_in_range(met_type, data_path, dtr)\n",
    "\n",
    "met_type = 'ggg'\n",
    "data_path = '/uufs/chpc.utah.edu/common/home/lin-group9/agm/EM27/ua/inst_data/met/processed_collected'\n",
    "vaisala_ggg_df = mh.load_data_in_range(met_type, data_path, dtr)"
   ]
  },
  {
   "cell_type": "markdown",
   "metadata": {},
   "source": [
    "# Plotting"
   ]
  },
  {
   "cell_type": "code",
   "execution_count": null,
   "metadata": {},
   "outputs": [],
   "source": [
    "\n",
    "params = ['temp','pres','rh']\n",
    "df_dict = {'wbb':[wbb_ggg_df,'black'],'vaisala':[vaisala_ggg_df,'red']}\n",
    "\n",
    "fig = make_subplots(rows=len(params),cols=1,shared_xaxes=True)\n",
    "\n",
    "row = 1\n",
    "# y_axis_limits = {\n",
    "#     'pres': {'min': 850, 'max': 900},\n",
    "#     'rh': {'min': 0, 'max': 100},\n",
    "#     'temp': {'min': 20, 'max': 40}\n",
    "# }\n",
    "\n",
    "for param in params:\n",
    "    for key, values in df_dict.items():\n",
    "        df = values[0]\n",
    "        color = values[1]\n",
    "        fig.add_trace(go.Scatter(\n",
    "            x=df.index,\n",
    "            y=df[param],\n",
    "            mode='markers',\n",
    "            marker={'color': color, 'size': 3},\n",
    "            name=key,\n",
    "            showlegend=True,\n",
    "        ), row=row, col=1)\n",
    "        fig.update_yaxes(title_text=param, row=row, col=1)\n",
    "        \n",
    "        #fig.update_yaxes(title_text=param, row=row, col=1, range=[y_axis_limits[param]['min'], y_axis_limits[param]['max']])\n",
    "    row += 1\n",
    "\n",
    "fig.update_layout(\n",
    "    height=600,\n",
    "    margin = go.layout.Margin(t=1,b=1)\n",
    ")\n",
    "fig.show()"
   ]
  },
  {
   "cell_type": "code",
   "execution_count": null,
   "metadata": {},
   "outputs": [],
   "source": [
    "\n",
    "# params = ['pres','rh','temp']\n",
    "df_dict = { 'orig':{'df':df_orig,\n",
    "                    'color':'black'\n",
    "                    ,'params': ['pres','rh','temp']},\n",
    "\n",
    "            'cleaned':{'df':ggg_df,\n",
    "                    'color':'red'\n",
    "                    ,'params': ['Pout','RH','Tout']}\n",
    "}\n",
    "\n",
    "\n",
    "fig = make_subplots(rows=len(params),cols=1,shared_xaxes=True)\n",
    "\n",
    "# y_axis_limits = {\n",
    "#     'pres': {'min': 850, 'max': 900},\n",
    "#     'rh': {'min': 0, 'max': 100},\n",
    "#     'temp': {'min': 20, 'max': 40}\n",
    "# }\n",
    "\n",
    "for key, values in df_dict.items():\n",
    "    row = 1\n",
    "    df = values['df']\n",
    "    color = values['color']\n",
    "    params = values['params']\n",
    "    for param in params:\n",
    "        fig.add_trace(go.Scatter(\n",
    "            x=df.index,\n",
    "            y=df[param],\n",
    "            mode='markers',\n",
    "            marker={'color': color, 'size': 3},\n",
    "            name=f\"{key}_{param}\",\n",
    "            showlegend=True,\n",
    "        ), row=row, col=1)\n",
    "        row += 1\n",
    "\n",
    "\n",
    "fig.update_layout(\n",
    "    height=600,\n",
    "    margin = go.layout.Margin(t=1,b=1)\n",
    ")\n",
    "fig.show()"
   ]
  }
 ],
 "metadata": {
  "kernelspec": {
   "display_name": "atmos_column1",
   "language": "python",
   "name": "python3"
  },
  "language_info": {
   "codemirror_mode": {
    "name": "ipython",
    "version": 3
   },
   "file_extension": ".py",
   "mimetype": "text/x-python",
   "name": "python",
   "nbconvert_exporter": "python",
   "pygments_lexer": "ipython3",
   "version": "3.11.6"
  }
 },
 "nbformat": 4,
 "nbformat_minor": 2
}
